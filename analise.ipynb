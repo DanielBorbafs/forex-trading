{
 "cells": [
  {
   "cell_type": "code",
   "execution_count": 1,
   "metadata": {},
   "outputs": [
    {
     "name": "stdout",
     "output_type": "stream",
     "text": [
      "Requirement already satisfied: pandas in c:\\users\\daniel\\appdata\\local\\programs\\python\\python313\\lib\\site-packages (2.2.3)\n",
      "Requirement already satisfied: numpy>=1.26.0 in c:\\users\\daniel\\appdata\\local\\programs\\python\\python313\\lib\\site-packages (from pandas) (2.2.0)\n",
      "Requirement already satisfied: python-dateutil>=2.8.2 in c:\\users\\daniel\\appdata\\roaming\\python\\python313\\site-packages (from pandas) (2.9.0.post0)\n",
      "Requirement already satisfied: pytz>=2020.1 in c:\\users\\daniel\\appdata\\local\\programs\\python\\python313\\lib\\site-packages (from pandas) (2024.2)\n",
      "Requirement already satisfied: tzdata>=2022.7 in c:\\users\\daniel\\appdata\\local\\programs\\python\\python313\\lib\\site-packages (from pandas) (2024.2)\n",
      "Requirement already satisfied: six>=1.5 in c:\\users\\daniel\\appdata\\roaming\\python\\python313\\site-packages (from python-dateutil>=2.8.2->pandas) (1.17.0)\n"
     ]
    }
   ],
   "source": [
    "! pip install pandas"
   ]
  },
  {
   "cell_type": "code",
   "execution_count": 17,
   "metadata": {},
   "outputs": [],
   "source": [
    "import pandas as pd \n",
    "\n",
    "pd.set_option('display.max_columns',None)\n",
    "pd.set_option('display.width', 1000)"
   ]
  },
  {
   "cell_type": "code",
   "execution_count": 18,
   "metadata": {},
   "outputs": [
    {
     "name": "stdout",
     "output_type": "stream",
     "text": [
      "   2024.07.18  13:50  1.29805  1.29844  1.29796  1.29830  404\n",
      "0  2024.07.18  13:55  1.29827  1.29830  1.29793  1.29807  296\n",
      "1  2024.07.18  14:00  1.29807  1.29831  1.29805  1.29829  537\n",
      "2  2024.07.18  14:05  1.29830  1.29851  1.29807  1.29840  429\n",
      "3  2024.07.18  14:10  1.29838  1.29861  1.29811  1.29821  275\n",
      "4  2024.07.18  14:15  1.29821  1.29838  1.29803  1.29835  538\n"
     ]
    }
   ],
   "source": [
    "df = pd.read_csv('GBPUSD5.CSV')\n",
    "\n",
    "print(df.head())"
   ]
  },
  {
   "cell_type": "code",
   "execution_count": 19,
   "metadata": {},
   "outputs": [
    {
     "name": "stdout",
     "output_type": "stream",
     "text": [
      "             data horário  Preço de abertura  Preço Máximo  Preço Mínimo  Preço de fechamento  Volume\n",
      "0      2024.07.18   13:55            1.29827       1.29830       1.29793              1.29807     296\n",
      "1      2024.07.18   14:00            1.29807       1.29831       1.29805              1.29829     537\n",
      "2      2024.07.18   14:05            1.29830       1.29851       1.29807              1.29840     429\n",
      "3      2024.07.18   14:10            1.29838       1.29861       1.29811              1.29821     275\n",
      "4      2024.07.18   14:15            1.29821       1.29838       1.29803              1.29835     538\n",
      "...           ...     ...                ...           ...           ...                  ...     ...\n",
      "37285  2025.01.20   01:00            1.21759       1.21810       1.21743              1.21765     499\n",
      "37286  2025.01.20   01:05            1.21764       1.21813       1.21754              1.21804     304\n",
      "37287  2025.01.20   01:10            1.21805       1.21843       1.21797              1.21833     338\n",
      "37288  2025.01.20   01:15            1.21833       1.21834       1.21811              1.21818     399\n",
      "37289  2025.01.20   01:20            1.21819       1.21825       1.21813              1.21815     102\n",
      "\n",
      "[37290 rows x 7 columns]\n"
     ]
    }
   ],
   "source": [
    "df.columns = ['data', 'horário', 'Preço de abertura', 'Preço Máximo', 'Preço Mínimo', 'Preço de fechamento', 'Volume']\n",
    "\n",
    "print(df)"
   ]
  },
  {
   "cell_type": "code",
   "execution_count": null,
   "metadata": {},
   "outputs": [],
   "source": [
    "# Removendo colunas desnecessárias\n",
    "\n",
    "df = df.drop('Preço Máximo', axis=1)\n",
    "df = df.drop('Preço Mínimo', axis=1)"
   ]
  },
  {
   "cell_type": "code",
   "execution_count": 23,
   "metadata": {},
   "outputs": [
    {
     "name": "stdout",
     "output_type": "stream",
     "text": [
      "             data horário  Preço de abertura  Preço de fechamento  Volume\n",
      "0      2024.07.18   13:55            1.29827              1.29807     296\n",
      "1      2024.07.18   14:00            1.29807              1.29829     537\n",
      "2      2024.07.18   14:05            1.29830              1.29840     429\n",
      "3      2024.07.18   14:10            1.29838              1.29821     275\n",
      "4      2024.07.18   14:15            1.29821              1.29835     538\n",
      "...           ...     ...                ...                  ...     ...\n",
      "37285  2025.01.20   01:00            1.21759              1.21765     499\n",
      "37286  2025.01.20   01:05            1.21764              1.21804     304\n",
      "37287  2025.01.20   01:10            1.21805              1.21833     338\n",
      "37288  2025.01.20   01:15            1.21833              1.21818     399\n",
      "37289  2025.01.20   01:20            1.21819              1.21815     102\n",
      "\n",
      "[37290 rows x 5 columns]\n"
     ]
    }
   ],
   "source": [
    "print(df)"
   ]
  },
  {
   "cell_type": "code",
   "execution_count": 29,
   "metadata": {},
   "outputs": [],
   "source": [
    "def candle_fechamento(df):\n",
    "    # Criando uma nova coluna 'candle' para armazenar se o candle é 'Positivo' ou 'Negativo'\n",
    "    df['candle'] = df.apply(lambda row: 'Positivo' if row['Preço de fechamento'] > row['Preço de abertura'] else 'Negativo', axis=1)\n",
    "    return df\n"
   ]
  },
  {
   "cell_type": "code",
   "execution_count": 30,
   "metadata": {},
   "outputs": [
    {
     "data": {
      "text/html": [
       "<div>\n",
       "<style scoped>\n",
       "    .dataframe tbody tr th:only-of-type {\n",
       "        vertical-align: middle;\n",
       "    }\n",
       "\n",
       "    .dataframe tbody tr th {\n",
       "        vertical-align: top;\n",
       "    }\n",
       "\n",
       "    .dataframe thead th {\n",
       "        text-align: right;\n",
       "    }\n",
       "</style>\n",
       "<table border=\"1\" class=\"dataframe\">\n",
       "  <thead>\n",
       "    <tr style=\"text-align: right;\">\n",
       "      <th></th>\n",
       "      <th>data</th>\n",
       "      <th>horário</th>\n",
       "      <th>Preço de abertura</th>\n",
       "      <th>Preço de fechamento</th>\n",
       "      <th>Volume</th>\n",
       "      <th>soma</th>\n",
       "      <th>candle</th>\n",
       "    </tr>\n",
       "  </thead>\n",
       "  <tbody>\n",
       "    <tr>\n",
       "      <th>0</th>\n",
       "      <td>2024.07.18</td>\n",
       "      <td>13:55</td>\n",
       "      <td>1.29827</td>\n",
       "      <td>1.29807</td>\n",
       "      <td>296</td>\n",
       "      <td>2.59634</td>\n",
       "      <td>Negativo</td>\n",
       "    </tr>\n",
       "    <tr>\n",
       "      <th>1</th>\n",
       "      <td>2024.07.18</td>\n",
       "      <td>14:00</td>\n",
       "      <td>1.29807</td>\n",
       "      <td>1.29829</td>\n",
       "      <td>537</td>\n",
       "      <td>2.59636</td>\n",
       "      <td>Positivo</td>\n",
       "    </tr>\n",
       "    <tr>\n",
       "      <th>2</th>\n",
       "      <td>2024.07.18</td>\n",
       "      <td>14:05</td>\n",
       "      <td>1.29830</td>\n",
       "      <td>1.29840</td>\n",
       "      <td>429</td>\n",
       "      <td>2.59670</td>\n",
       "      <td>Positivo</td>\n",
       "    </tr>\n",
       "    <tr>\n",
       "      <th>3</th>\n",
       "      <td>2024.07.18</td>\n",
       "      <td>14:10</td>\n",
       "      <td>1.29838</td>\n",
       "      <td>1.29821</td>\n",
       "      <td>275</td>\n",
       "      <td>2.59659</td>\n",
       "      <td>Negativo</td>\n",
       "    </tr>\n",
       "    <tr>\n",
       "      <th>4</th>\n",
       "      <td>2024.07.18</td>\n",
       "      <td>14:15</td>\n",
       "      <td>1.29821</td>\n",
       "      <td>1.29835</td>\n",
       "      <td>538</td>\n",
       "      <td>2.59656</td>\n",
       "      <td>Positivo</td>\n",
       "    </tr>\n",
       "    <tr>\n",
       "      <th>...</th>\n",
       "      <td>...</td>\n",
       "      <td>...</td>\n",
       "      <td>...</td>\n",
       "      <td>...</td>\n",
       "      <td>...</td>\n",
       "      <td>...</td>\n",
       "      <td>...</td>\n",
       "    </tr>\n",
       "    <tr>\n",
       "      <th>37285</th>\n",
       "      <td>2025.01.20</td>\n",
       "      <td>01:00</td>\n",
       "      <td>1.21759</td>\n",
       "      <td>1.21765</td>\n",
       "      <td>499</td>\n",
       "      <td>2.43524</td>\n",
       "      <td>Positivo</td>\n",
       "    </tr>\n",
       "    <tr>\n",
       "      <th>37286</th>\n",
       "      <td>2025.01.20</td>\n",
       "      <td>01:05</td>\n",
       "      <td>1.21764</td>\n",
       "      <td>1.21804</td>\n",
       "      <td>304</td>\n",
       "      <td>2.43568</td>\n",
       "      <td>Positivo</td>\n",
       "    </tr>\n",
       "    <tr>\n",
       "      <th>37287</th>\n",
       "      <td>2025.01.20</td>\n",
       "      <td>01:10</td>\n",
       "      <td>1.21805</td>\n",
       "      <td>1.21833</td>\n",
       "      <td>338</td>\n",
       "      <td>2.43638</td>\n",
       "      <td>Positivo</td>\n",
       "    </tr>\n",
       "    <tr>\n",
       "      <th>37288</th>\n",
       "      <td>2025.01.20</td>\n",
       "      <td>01:15</td>\n",
       "      <td>1.21833</td>\n",
       "      <td>1.21818</td>\n",
       "      <td>399</td>\n",
       "      <td>2.43651</td>\n",
       "      <td>Negativo</td>\n",
       "    </tr>\n",
       "    <tr>\n",
       "      <th>37289</th>\n",
       "      <td>2025.01.20</td>\n",
       "      <td>01:20</td>\n",
       "      <td>1.21819</td>\n",
       "      <td>1.21815</td>\n",
       "      <td>102</td>\n",
       "      <td>2.43634</td>\n",
       "      <td>Negativo</td>\n",
       "    </tr>\n",
       "  </tbody>\n",
       "</table>\n",
       "<p>37290 rows × 7 columns</p>\n",
       "</div>"
      ],
      "text/plain": [
       "             data horário  Preço de abertura  Preço de fechamento  Volume     soma    candle\n",
       "0      2024.07.18   13:55            1.29827              1.29807     296  2.59634  Negativo\n",
       "1      2024.07.18   14:00            1.29807              1.29829     537  2.59636  Positivo\n",
       "2      2024.07.18   14:05            1.29830              1.29840     429  2.59670  Positivo\n",
       "3      2024.07.18   14:10            1.29838              1.29821     275  2.59659  Negativo\n",
       "4      2024.07.18   14:15            1.29821              1.29835     538  2.59656  Positivo\n",
       "...           ...     ...                ...                  ...     ...      ...       ...\n",
       "37285  2025.01.20   01:00            1.21759              1.21765     499  2.43524  Positivo\n",
       "37286  2025.01.20   01:05            1.21764              1.21804     304  2.43568  Positivo\n",
       "37287  2025.01.20   01:10            1.21805              1.21833     338  2.43638  Positivo\n",
       "37288  2025.01.20   01:15            1.21833              1.21818     399  2.43651  Negativo\n",
       "37289  2025.01.20   01:20            1.21819              1.21815     102  2.43634  Negativo\n",
       "\n",
       "[37290 rows x 7 columns]"
      ]
     },
     "execution_count": 30,
     "metadata": {},
     "output_type": "execute_result"
    }
   ],
   "source": [
    "candle_fechamento(df)"
   ]
  },
  {
   "cell_type": "code",
   "execution_count": 33,
   "metadata": {},
   "outputs": [],
   "source": [
    "df = df.drop('soma', axis=1)"
   ]
  },
  {
   "cell_type": "code",
   "execution_count": 34,
   "metadata": {},
   "outputs": [
    {
     "name": "stdout",
     "output_type": "stream",
     "text": [
      "             data horário  Preço de abertura  Preço de fechamento  Volume    candle\n",
      "0      2024.07.18   13:55            1.29827              1.29807     296  Negativo\n",
      "1      2024.07.18   14:00            1.29807              1.29829     537  Positivo\n",
      "2      2024.07.18   14:05            1.29830              1.29840     429  Positivo\n",
      "3      2024.07.18   14:10            1.29838              1.29821     275  Negativo\n",
      "4      2024.07.18   14:15            1.29821              1.29835     538  Positivo\n",
      "...           ...     ...                ...                  ...     ...       ...\n",
      "37285  2025.01.20   01:00            1.21759              1.21765     499  Positivo\n",
      "37286  2025.01.20   01:05            1.21764              1.21804     304  Positivo\n",
      "37287  2025.01.20   01:10            1.21805              1.21833     338  Positivo\n",
      "37288  2025.01.20   01:15            1.21833              1.21818     399  Negativo\n",
      "37289  2025.01.20   01:20            1.21819              1.21815     102  Negativo\n",
      "\n",
      "[37290 rows x 6 columns]\n"
     ]
    }
   ],
   "source": [
    "print(df)"
   ]
  }
 ],
 "metadata": {
  "kernelspec": {
   "display_name": "Python 3",
   "language": "python",
   "name": "python3"
  },
  "language_info": {
   "codemirror_mode": {
    "name": "ipython",
    "version": 3
   },
   "file_extension": ".py",
   "mimetype": "text/x-python",
   "name": "python",
   "nbconvert_exporter": "python",
   "pygments_lexer": "ipython3",
   "version": "3.13.1"
  }
 },
 "nbformat": 4,
 "nbformat_minor": 2
}

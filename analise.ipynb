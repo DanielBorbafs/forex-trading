{
 "cells": [
  {
   "cell_type": "code",
   "execution_count": 64,
   "metadata": {},
   "outputs": [
    {
     "name": "stdout",
     "output_type": "stream",
     "text": [
      "Requirement already satisfied: pandas in c:\\users\\daniel\\appdata\\local\\programs\\python\\python313\\lib\\site-packages (2.2.3)\n",
      "Requirement already satisfied: numpy>=1.26.0 in c:\\users\\daniel\\appdata\\local\\programs\\python\\python313\\lib\\site-packages (from pandas) (2.2.0)\n",
      "Requirement already satisfied: python-dateutil>=2.8.2 in c:\\users\\daniel\\appdata\\roaming\\python\\python313\\site-packages (from pandas) (2.9.0.post0)\n",
      "Requirement already satisfied: pytz>=2020.1 in c:\\users\\daniel\\appdata\\local\\programs\\python\\python313\\lib\\site-packages (from pandas) (2024.2)\n",
      "Requirement already satisfied: tzdata>=2022.7 in c:\\users\\daniel\\appdata\\local\\programs\\python\\python313\\lib\\site-packages (from pandas) (2024.2)\n",
      "Requirement already satisfied: six>=1.5 in c:\\users\\daniel\\appdata\\roaming\\python\\python313\\site-packages (from python-dateutil>=2.8.2->pandas) (1.17.0)\n"
     ]
    }
   ],
   "source": [
    "! pip install pandas"
   ]
  },
  {
   "cell_type": "code",
   "execution_count": 65,
   "metadata": {},
   "outputs": [],
   "source": [
    "import pandas as pd \n",
    "\n",
    "pd.set_option('display.max_columns',None)\n",
    "pd.set_option('display.width', 1000)"
   ]
  },
  {
   "cell_type": "code",
   "execution_count": 66,
   "metadata": {},
   "outputs": [
    {
     "name": "stdout",
     "output_type": "stream",
     "text": [
      "   2024.07.18  13:50  1.29805  1.29844  1.29796  1.29830  404\n",
      "0  2024.07.18  13:55  1.29827  1.29830  1.29793  1.29807  296\n",
      "1  2024.07.18  14:00  1.29807  1.29831  1.29805  1.29829  537\n",
      "2  2024.07.18  14:05  1.29830  1.29851  1.29807  1.29840  429\n",
      "3  2024.07.18  14:10  1.29838  1.29861  1.29811  1.29821  275\n",
      "4  2024.07.18  14:15  1.29821  1.29838  1.29803  1.29835  538\n"
     ]
    }
   ],
   "source": [
    "df = pd.read_csv('GBPUSD5.CSV')\n",
    "\n",
    "print(df.head())"
   ]
  },
  {
   "cell_type": "code",
   "execution_count": 67,
   "metadata": {},
   "outputs": [
    {
     "name": "stdout",
     "output_type": "stream",
     "text": [
      "             data horário  Preço de abertura  Preço Máximo  Preço Mínimo  Preço de fechamento  Volume\n",
      "0      2024.07.18   13:55            1.29827       1.29830       1.29793              1.29807     296\n",
      "1      2024.07.18   14:00            1.29807       1.29831       1.29805              1.29829     537\n",
      "2      2024.07.18   14:05            1.29830       1.29851       1.29807              1.29840     429\n",
      "3      2024.07.18   14:10            1.29838       1.29861       1.29811              1.29821     275\n",
      "4      2024.07.18   14:15            1.29821       1.29838       1.29803              1.29835     538\n",
      "...           ...     ...                ...           ...           ...                  ...     ...\n",
      "37285  2025.01.20   01:00            1.21759       1.21810       1.21743              1.21765     499\n",
      "37286  2025.01.20   01:05            1.21764       1.21813       1.21754              1.21804     304\n",
      "37287  2025.01.20   01:10            1.21805       1.21843       1.21797              1.21833     338\n",
      "37288  2025.01.20   01:15            1.21833       1.21834       1.21811              1.21818     399\n",
      "37289  2025.01.20   01:20            1.21819       1.21825       1.21813              1.21815     102\n",
      "\n",
      "[37290 rows x 7 columns]\n"
     ]
    }
   ],
   "source": [
    "df.columns = ['data', 'horário', 'Preço de abertura', 'Preço Máximo', 'Preço Mínimo', 'Preço de fechamento', 'Volume']\n",
    "\n",
    "print(df)"
   ]
  },
  {
   "cell_type": "code",
   "execution_count": 68,
   "metadata": {},
   "outputs": [],
   "source": [
    "# Removendo colunas desnecessárias\n",
    "\n",
    "df = df.drop('Preço Máximo', axis=1)\n",
    "df = df.drop('Preço Mínimo', axis=1)"
   ]
  },
  {
   "cell_type": "code",
   "execution_count": 69,
   "metadata": {},
   "outputs": [
    {
     "name": "stdout",
     "output_type": "stream",
     "text": [
      "             data horário  Preço de abertura  Preço de fechamento  Volume\n",
      "0      2024.07.18   13:55            1.29827              1.29807     296\n",
      "1      2024.07.18   14:00            1.29807              1.29829     537\n",
      "2      2024.07.18   14:05            1.29830              1.29840     429\n",
      "3      2024.07.18   14:10            1.29838              1.29821     275\n",
      "4      2024.07.18   14:15            1.29821              1.29835     538\n",
      "...           ...     ...                ...                  ...     ...\n",
      "37285  2025.01.20   01:00            1.21759              1.21765     499\n",
      "37286  2025.01.20   01:05            1.21764              1.21804     304\n",
      "37287  2025.01.20   01:10            1.21805              1.21833     338\n",
      "37288  2025.01.20   01:15            1.21833              1.21818     399\n",
      "37289  2025.01.20   01:20            1.21819              1.21815     102\n",
      "\n",
      "[37290 rows x 5 columns]\n"
     ]
    }
   ],
   "source": [
    "print(df)"
   ]
  },
  {
   "cell_type": "code",
   "execution_count": 70,
   "metadata": {},
   "outputs": [],
   "source": [
    "def candle_fechamento(df):\n",
    "    # Criando uma nova coluna 'candle' para armazenar se o candle é 'Positivo' ou 'Negativo'\n",
    "    df['candle'] = df.apply(lambda row: 'Positivo' if row['Preço de fechamento'] > row['Preço de abertura'] else 'Negativo', axis=1)\n",
    "    return df\n"
   ]
  },
  {
   "cell_type": "code",
   "execution_count": 71,
   "metadata": {},
   "outputs": [
    {
     "data": {
      "text/html": [
       "<div>\n",
       "<style scoped>\n",
       "    .dataframe tbody tr th:only-of-type {\n",
       "        vertical-align: middle;\n",
       "    }\n",
       "\n",
       "    .dataframe tbody tr th {\n",
       "        vertical-align: top;\n",
       "    }\n",
       "\n",
       "    .dataframe thead th {\n",
       "        text-align: right;\n",
       "    }\n",
       "</style>\n",
       "<table border=\"1\" class=\"dataframe\">\n",
       "  <thead>\n",
       "    <tr style=\"text-align: right;\">\n",
       "      <th></th>\n",
       "      <th>data</th>\n",
       "      <th>horário</th>\n",
       "      <th>Preço de abertura</th>\n",
       "      <th>Preço de fechamento</th>\n",
       "      <th>Volume</th>\n",
       "      <th>candle</th>\n",
       "    </tr>\n",
       "  </thead>\n",
       "  <tbody>\n",
       "    <tr>\n",
       "      <th>0</th>\n",
       "      <td>2024.07.18</td>\n",
       "      <td>13:55</td>\n",
       "      <td>1.29827</td>\n",
       "      <td>1.29807</td>\n",
       "      <td>296</td>\n",
       "      <td>Negativo</td>\n",
       "    </tr>\n",
       "    <tr>\n",
       "      <th>1</th>\n",
       "      <td>2024.07.18</td>\n",
       "      <td>14:00</td>\n",
       "      <td>1.29807</td>\n",
       "      <td>1.29829</td>\n",
       "      <td>537</td>\n",
       "      <td>Positivo</td>\n",
       "    </tr>\n",
       "    <tr>\n",
       "      <th>2</th>\n",
       "      <td>2024.07.18</td>\n",
       "      <td>14:05</td>\n",
       "      <td>1.29830</td>\n",
       "      <td>1.29840</td>\n",
       "      <td>429</td>\n",
       "      <td>Positivo</td>\n",
       "    </tr>\n",
       "    <tr>\n",
       "      <th>3</th>\n",
       "      <td>2024.07.18</td>\n",
       "      <td>14:10</td>\n",
       "      <td>1.29838</td>\n",
       "      <td>1.29821</td>\n",
       "      <td>275</td>\n",
       "      <td>Negativo</td>\n",
       "    </tr>\n",
       "    <tr>\n",
       "      <th>4</th>\n",
       "      <td>2024.07.18</td>\n",
       "      <td>14:15</td>\n",
       "      <td>1.29821</td>\n",
       "      <td>1.29835</td>\n",
       "      <td>538</td>\n",
       "      <td>Positivo</td>\n",
       "    </tr>\n",
       "    <tr>\n",
       "      <th>...</th>\n",
       "      <td>...</td>\n",
       "      <td>...</td>\n",
       "      <td>...</td>\n",
       "      <td>...</td>\n",
       "      <td>...</td>\n",
       "      <td>...</td>\n",
       "    </tr>\n",
       "    <tr>\n",
       "      <th>37285</th>\n",
       "      <td>2025.01.20</td>\n",
       "      <td>01:00</td>\n",
       "      <td>1.21759</td>\n",
       "      <td>1.21765</td>\n",
       "      <td>499</td>\n",
       "      <td>Positivo</td>\n",
       "    </tr>\n",
       "    <tr>\n",
       "      <th>37286</th>\n",
       "      <td>2025.01.20</td>\n",
       "      <td>01:05</td>\n",
       "      <td>1.21764</td>\n",
       "      <td>1.21804</td>\n",
       "      <td>304</td>\n",
       "      <td>Positivo</td>\n",
       "    </tr>\n",
       "    <tr>\n",
       "      <th>37287</th>\n",
       "      <td>2025.01.20</td>\n",
       "      <td>01:10</td>\n",
       "      <td>1.21805</td>\n",
       "      <td>1.21833</td>\n",
       "      <td>338</td>\n",
       "      <td>Positivo</td>\n",
       "    </tr>\n",
       "    <tr>\n",
       "      <th>37288</th>\n",
       "      <td>2025.01.20</td>\n",
       "      <td>01:15</td>\n",
       "      <td>1.21833</td>\n",
       "      <td>1.21818</td>\n",
       "      <td>399</td>\n",
       "      <td>Negativo</td>\n",
       "    </tr>\n",
       "    <tr>\n",
       "      <th>37289</th>\n",
       "      <td>2025.01.20</td>\n",
       "      <td>01:20</td>\n",
       "      <td>1.21819</td>\n",
       "      <td>1.21815</td>\n",
       "      <td>102</td>\n",
       "      <td>Negativo</td>\n",
       "    </tr>\n",
       "  </tbody>\n",
       "</table>\n",
       "<p>37290 rows × 6 columns</p>\n",
       "</div>"
      ],
      "text/plain": [
       "             data horário  Preço de abertura  Preço de fechamento  Volume    candle\n",
       "0      2024.07.18   13:55            1.29827              1.29807     296  Negativo\n",
       "1      2024.07.18   14:00            1.29807              1.29829     537  Positivo\n",
       "2      2024.07.18   14:05            1.29830              1.29840     429  Positivo\n",
       "3      2024.07.18   14:10            1.29838              1.29821     275  Negativo\n",
       "4      2024.07.18   14:15            1.29821              1.29835     538  Positivo\n",
       "...           ...     ...                ...                  ...     ...       ...\n",
       "37285  2025.01.20   01:00            1.21759              1.21765     499  Positivo\n",
       "37286  2025.01.20   01:05            1.21764              1.21804     304  Positivo\n",
       "37287  2025.01.20   01:10            1.21805              1.21833     338  Positivo\n",
       "37288  2025.01.20   01:15            1.21833              1.21818     399  Negativo\n",
       "37289  2025.01.20   01:20            1.21819              1.21815     102  Negativo\n",
       "\n",
       "[37290 rows x 6 columns]"
      ]
     },
     "execution_count": 71,
     "metadata": {},
     "output_type": "execute_result"
    }
   ],
   "source": [
    "candle_fechamento(df)"
   ]
  },
  {
   "cell_type": "code",
   "execution_count": 72,
   "metadata": {},
   "outputs": [
    {
     "name": "stdout",
     "output_type": "stream",
     "text": [
      "             data horário  Preço de abertura  Preço de fechamento  Volume    candle\n",
      "0      2024.07.18   13:55            1.29827              1.29807     296  Negativo\n",
      "1      2024.07.18   14:00            1.29807              1.29829     537  Positivo\n",
      "2      2024.07.18   14:05            1.29830              1.29840     429  Positivo\n",
      "3      2024.07.18   14:10            1.29838              1.29821     275  Negativo\n",
      "4      2024.07.18   14:15            1.29821              1.29835     538  Positivo\n",
      "...           ...     ...                ...                  ...     ...       ...\n",
      "37285  2025.01.20   01:00            1.21759              1.21765     499  Positivo\n",
      "37286  2025.01.20   01:05            1.21764              1.21804     304  Positivo\n",
      "37287  2025.01.20   01:10            1.21805              1.21833     338  Positivo\n",
      "37288  2025.01.20   01:15            1.21833              1.21818     399  Negativo\n",
      "37289  2025.01.20   01:20            1.21819              1.21815     102  Negativo\n",
      "\n",
      "[37290 rows x 6 columns]\n"
     ]
    }
   ],
   "source": [
    "print(df)"
   ]
  },
  {
   "cell_type": "code",
   "execution_count": 73,
   "metadata": {},
   "outputs": [
    {
     "name": "stdout",
     "output_type": "stream",
     "text": [
      "candle   Negativo  Positivo\n",
      "horário                    \n",
      "00:00    0.384615  0.615385\n",
      "00:05    0.569231  0.430769\n",
      "00:10    0.515385  0.484615\n",
      "00:15    0.507692  0.492308\n",
      "00:20    0.530769  0.469231\n",
      "...           ...       ...\n",
      "23:35    0.415385  0.584615\n",
      "23:40    0.476923  0.523077\n",
      "23:45    0.553846  0.446154\n",
      "23:50    0.523077  0.476923\n",
      "23:55    0.607692  0.392308\n",
      "\n",
      "[288 rows x 2 columns]\n"
     ]
    }
   ],
   "source": [
    "# Agrupando os dados por horário e calculando a porcentagem de candles positivos\n",
    "resultado = df.groupby('horário')['candle'].value_counts(normalize=True).unstack().fillna(0)\n",
    "print(resultado)"
   ]
  },
  {
   "cell_type": "code",
   "execution_count": 74,
   "metadata": {},
   "outputs": [],
   "source": [
    "resultado['Porcentagem Positiva'] = resultado ['Positivo'] * 100"
   ]
  },
  {
   "cell_type": "code",
   "execution_count": 75,
   "metadata": {},
   "outputs": [],
   "source": [
    "resultado = resultado.sort_values('Porcentagem Positiva', ascending=False)"
   ]
  },
  {
   "cell_type": "code",
   "execution_count": 76,
   "metadata": {},
   "outputs": [
    {
     "name": "stdout",
     "output_type": "stream",
     "text": [
      "candle   Negativo  Positivo  Porcentagem Positiva\n",
      "horário                                          \n",
      "23:30    0.300000  0.700000             70.000000\n",
      "23:05    0.361538  0.638462             63.846154\n",
      "23:00    0.361538  0.638462             63.846154\n",
      "21:05    0.376923  0.623077             62.307692\n",
      "23:10    0.376923  0.623077             62.307692\n",
      "00:00    0.384615  0.615385             61.538462\n",
      "23:15    0.400000  0.600000             60.000000\n",
      "18:50    0.407692  0.592308             59.230769\n",
      "23:35    0.415385  0.584615             58.461538\n",
      "07:15    0.418605  0.581395             58.139535\n",
      "07:55    0.418605  0.581395             58.139535\n",
      "04:20    0.418605  0.581395             58.139535\n",
      "11:20    0.426357  0.573643             57.364341\n",
      "14:20    0.430769  0.569231             56.923077\n",
      "21:55    0.430769  0.569231             56.923077\n",
      "08:10    0.434109  0.565891             56.589147\n",
      "05:10    0.434109  0.565891             56.589147\n",
      "02:10    0.434109  0.565891             56.589147\n",
      "13:35    0.434109  0.565891             56.589147\n",
      "14:30    0.438462  0.561538             56.153846\n"
     ]
    }
   ],
   "source": [
    "print(resultado.head(20))"
   ]
  },
  {
   "cell_type": "code",
   "execution_count": 77,
   "metadata": {},
   "outputs": [
    {
     "name": "stdout",
     "output_type": "stream",
     "text": [
      "candle   Negativo  Positivo  Porcentagem Positiva\n",
      "horário                                          \n",
      "23:30    0.300000  0.700000             70.000000\n",
      "23:05    0.361538  0.638462             63.846154\n",
      "23:00    0.361538  0.638462             63.846154\n",
      "21:05    0.376923  0.623077             62.307692\n",
      "23:10    0.376923  0.623077             62.307692\n",
      "00:00    0.384615  0.615385             61.538462\n"
     ]
    }
   ],
   "source": [
    "filtro = resultado[resultado['Porcentagem Positiva'] > 60 ]\n",
    "print(filtro)"
   ]
  }
 ],
 "metadata": {
  "kernelspec": {
   "display_name": "Python 3",
   "language": "python",
   "name": "python3"
  },
  "language_info": {
   "codemirror_mode": {
    "name": "ipython",
    "version": 3
   },
   "file_extension": ".py",
   "mimetype": "text/x-python",
   "name": "python",
   "nbconvert_exporter": "python",
   "pygments_lexer": "ipython3",
   "version": "3.13.1"
  }
 },
 "nbformat": 4,
 "nbformat_minor": 2
}

{
 "cells": [
  {
   "cell_type": "code",
   "execution_count": 64,
   "metadata": {},
   "outputs": [
    {
     "name": "stdout",
     "output_type": "stream",
     "text": [
      "Requirement already satisfied: pandas in c:\\users\\daniel\\appdata\\local\\programs\\python\\python313\\lib\\site-packages (2.2.3)\n",
      "Requirement already satisfied: numpy>=1.26.0 in c:\\users\\daniel\\appdata\\local\\programs\\python\\python313\\lib\\site-packages (from pandas) (2.2.0)\n",
      "Requirement already satisfied: python-dateutil>=2.8.2 in c:\\users\\daniel\\appdata\\roaming\\python\\python313\\site-packages (from pandas) (2.9.0.post0)\n",
      "Requirement already satisfied: pytz>=2020.1 in c:\\users\\daniel\\appdata\\local\\programs\\python\\python313\\lib\\site-packages (from pandas) (2024.2)\n",
      "Requirement already satisfied: tzdata>=2022.7 in c:\\users\\daniel\\appdata\\local\\programs\\python\\python313\\lib\\site-packages (from pandas) (2024.2)\n",
      "Requirement already satisfied: six>=1.5 in c:\\users\\daniel\\appdata\\roaming\\python\\python313\\site-packages (from python-dateutil>=2.8.2->pandas) (1.17.0)\n"
     ]
    }
   ],
   "source": [
    "! pip install pandas"
   ]
  },
  {
   "cell_type": "code",
   "execution_count": 1,
   "metadata": {},
   "outputs": [],
   "source": [
    "import pandas as pd \n",
    "\n",
    "pd.set_option('display.max_columns',None)\n",
    "pd.set_option('display.width', 1000)"
   ]
  },
  {
   "cell_type": "code",
   "execution_count": 48,
   "metadata": {},
   "outputs": [
    {
     "name": "stdout",
     "output_type": "stream",
     "text": [
      "   2025.01.09  12:00  194.08300  194.10300  193.88900  193.97800  1567\n",
      "0  2025.01.09  12:05    193.974    194.022    193.943    193.971  1386\n",
      "1  2025.01.09  12:10    193.970    193.983    193.856    193.937  1440\n",
      "2  2025.01.09  12:15    193.935    194.047    193.935    194.029  1111\n",
      "3  2025.01.09  12:20    194.029    194.127    194.003    194.060  1151\n",
      "4  2025.01.09  12:25    194.060    194.094    194.010    194.036  1259\n"
     ]
    }
   ],
   "source": [
    "df = pd.read_csv('GBPJPY5.CSV')\n",
    "\n",
    "print(df.head())"
   ]
  },
  {
   "cell_type": "code",
   "execution_count": 49,
   "metadata": {},
   "outputs": [
    {
     "name": "stdout",
     "output_type": "stream",
     "text": [
      "            data horário  Preço de abertura  Preço Máximo  Preço Mínimo  Preço de fechamento  Volume\n",
      "0     2025.01.09   12:05            193.974       194.022       193.943              193.971    1386\n",
      "1     2025.01.09   12:10            193.970       193.983       193.856              193.937    1440\n",
      "2     2025.01.09   12:15            193.935       194.047       193.935              194.029    1111\n",
      "3     2025.01.09   12:20            194.029       194.127       194.003              194.060    1151\n",
      "4     2025.01.09   12:25            194.060       194.094       194.010              194.036    1259\n",
      "...          ...     ...                ...           ...           ...                  ...     ...\n",
      "2042  2025.01.20   14:15            190.766       190.780       190.681              190.681     718\n",
      "2043  2025.01.20   14:20            190.676       190.678       190.627              190.669     744\n",
      "2044  2025.01.20   14:25            190.668       190.668       190.602              190.627     938\n",
      "2045  2025.01.20   14:30            190.622       191.637       190.521              191.565    5073\n",
      "2046  2025.01.20   14:35            191.570       191.639       191.411              191.514    1266\n",
      "\n",
      "[2047 rows x 7 columns]\n"
     ]
    }
   ],
   "source": [
    "df.columns = ['data', 'horário', 'Preço de abertura', 'Preço Máximo', 'Preço Mínimo', 'Preço de fechamento', 'Volume']\n",
    "\n",
    "print(df)"
   ]
  },
  {
   "cell_type": "code",
   "execution_count": 50,
   "metadata": {},
   "outputs": [],
   "source": [
    "# Removendo colunas desnecessárias\n",
    "\n",
    "df = df.drop('Preço Máximo', axis=1)\n",
    "df = df.drop('Preço Mínimo', axis=1)"
   ]
  },
  {
   "cell_type": "code",
   "execution_count": 51,
   "metadata": {},
   "outputs": [
    {
     "name": "stdout",
     "output_type": "stream",
     "text": [
      "            data horário  Preço de abertura  Preço de fechamento  Volume\n",
      "0     2025.01.09   12:05            193.974              193.971    1386\n",
      "1     2025.01.09   12:10            193.970              193.937    1440\n",
      "2     2025.01.09   12:15            193.935              194.029    1111\n",
      "3     2025.01.09   12:20            194.029              194.060    1151\n",
      "4     2025.01.09   12:25            194.060              194.036    1259\n",
      "...          ...     ...                ...                  ...     ...\n",
      "2042  2025.01.20   14:15            190.766              190.681     718\n",
      "2043  2025.01.20   14:20            190.676              190.669     744\n",
      "2044  2025.01.20   14:25            190.668              190.627     938\n",
      "2045  2025.01.20   14:30            190.622              191.565    5073\n",
      "2046  2025.01.20   14:35            191.570              191.514    1266\n",
      "\n",
      "[2047 rows x 5 columns]\n"
     ]
    }
   ],
   "source": [
    "print(df)"
   ]
  },
  {
   "cell_type": "code",
   "execution_count": 52,
   "metadata": {},
   "outputs": [],
   "source": [
    "def candle_fechamento(df):\n",
    "    # Criando uma nova coluna 'candle' para armazenar se o candle é 'Positivo' ou 'Negativo'\n",
    "    df['candle'] = df.apply(lambda row: 'Positivo' if row['Preço de fechamento'] > row['Preço de abertura'] else 'Negativo', axis=1)\n",
    "    return df\n"
   ]
  },
  {
   "cell_type": "code",
   "execution_count": 53,
   "metadata": {},
   "outputs": [
    {
     "data": {
      "text/html": [
       "<div>\n",
       "<style scoped>\n",
       "    .dataframe tbody tr th:only-of-type {\n",
       "        vertical-align: middle;\n",
       "    }\n",
       "\n",
       "    .dataframe tbody tr th {\n",
       "        vertical-align: top;\n",
       "    }\n",
       "\n",
       "    .dataframe thead th {\n",
       "        text-align: right;\n",
       "    }\n",
       "</style>\n",
       "<table border=\"1\" class=\"dataframe\">\n",
       "  <thead>\n",
       "    <tr style=\"text-align: right;\">\n",
       "      <th></th>\n",
       "      <th>data</th>\n",
       "      <th>horário</th>\n",
       "      <th>Preço de abertura</th>\n",
       "      <th>Preço de fechamento</th>\n",
       "      <th>Volume</th>\n",
       "      <th>candle</th>\n",
       "    </tr>\n",
       "  </thead>\n",
       "  <tbody>\n",
       "    <tr>\n",
       "      <th>0</th>\n",
       "      <td>2025.01.09</td>\n",
       "      <td>12:05</td>\n",
       "      <td>193.974</td>\n",
       "      <td>193.971</td>\n",
       "      <td>1386</td>\n",
       "      <td>Negativo</td>\n",
       "    </tr>\n",
       "    <tr>\n",
       "      <th>1</th>\n",
       "      <td>2025.01.09</td>\n",
       "      <td>12:10</td>\n",
       "      <td>193.970</td>\n",
       "      <td>193.937</td>\n",
       "      <td>1440</td>\n",
       "      <td>Negativo</td>\n",
       "    </tr>\n",
       "    <tr>\n",
       "      <th>2</th>\n",
       "      <td>2025.01.09</td>\n",
       "      <td>12:15</td>\n",
       "      <td>193.935</td>\n",
       "      <td>194.029</td>\n",
       "      <td>1111</td>\n",
       "      <td>Positivo</td>\n",
       "    </tr>\n",
       "    <tr>\n",
       "      <th>3</th>\n",
       "      <td>2025.01.09</td>\n",
       "      <td>12:20</td>\n",
       "      <td>194.029</td>\n",
       "      <td>194.060</td>\n",
       "      <td>1151</td>\n",
       "      <td>Positivo</td>\n",
       "    </tr>\n",
       "    <tr>\n",
       "      <th>4</th>\n",
       "      <td>2025.01.09</td>\n",
       "      <td>12:25</td>\n",
       "      <td>194.060</td>\n",
       "      <td>194.036</td>\n",
       "      <td>1259</td>\n",
       "      <td>Negativo</td>\n",
       "    </tr>\n",
       "    <tr>\n",
       "      <th>...</th>\n",
       "      <td>...</td>\n",
       "      <td>...</td>\n",
       "      <td>...</td>\n",
       "      <td>...</td>\n",
       "      <td>...</td>\n",
       "      <td>...</td>\n",
       "    </tr>\n",
       "    <tr>\n",
       "      <th>2042</th>\n",
       "      <td>2025.01.20</td>\n",
       "      <td>14:15</td>\n",
       "      <td>190.766</td>\n",
       "      <td>190.681</td>\n",
       "      <td>718</td>\n",
       "      <td>Negativo</td>\n",
       "    </tr>\n",
       "    <tr>\n",
       "      <th>2043</th>\n",
       "      <td>2025.01.20</td>\n",
       "      <td>14:20</td>\n",
       "      <td>190.676</td>\n",
       "      <td>190.669</td>\n",
       "      <td>744</td>\n",
       "      <td>Negativo</td>\n",
       "    </tr>\n",
       "    <tr>\n",
       "      <th>2044</th>\n",
       "      <td>2025.01.20</td>\n",
       "      <td>14:25</td>\n",
       "      <td>190.668</td>\n",
       "      <td>190.627</td>\n",
       "      <td>938</td>\n",
       "      <td>Negativo</td>\n",
       "    </tr>\n",
       "    <tr>\n",
       "      <th>2045</th>\n",
       "      <td>2025.01.20</td>\n",
       "      <td>14:30</td>\n",
       "      <td>190.622</td>\n",
       "      <td>191.565</td>\n",
       "      <td>5073</td>\n",
       "      <td>Positivo</td>\n",
       "    </tr>\n",
       "    <tr>\n",
       "      <th>2046</th>\n",
       "      <td>2025.01.20</td>\n",
       "      <td>14:35</td>\n",
       "      <td>191.570</td>\n",
       "      <td>191.514</td>\n",
       "      <td>1266</td>\n",
       "      <td>Negativo</td>\n",
       "    </tr>\n",
       "  </tbody>\n",
       "</table>\n",
       "<p>2047 rows × 6 columns</p>\n",
       "</div>"
      ],
      "text/plain": [
       "            data horário  Preço de abertura  Preço de fechamento  Volume    candle\n",
       "0     2025.01.09   12:05            193.974              193.971    1386  Negativo\n",
       "1     2025.01.09   12:10            193.970              193.937    1440  Negativo\n",
       "2     2025.01.09   12:15            193.935              194.029    1111  Positivo\n",
       "3     2025.01.09   12:20            194.029              194.060    1151  Positivo\n",
       "4     2025.01.09   12:25            194.060              194.036    1259  Negativo\n",
       "...          ...     ...                ...                  ...     ...       ...\n",
       "2042  2025.01.20   14:15            190.766              190.681     718  Negativo\n",
       "2043  2025.01.20   14:20            190.676              190.669     744  Negativo\n",
       "2044  2025.01.20   14:25            190.668              190.627     938  Negativo\n",
       "2045  2025.01.20   14:30            190.622              191.565    5073  Positivo\n",
       "2046  2025.01.20   14:35            191.570              191.514    1266  Negativo\n",
       "\n",
       "[2047 rows x 6 columns]"
      ]
     },
     "execution_count": 53,
     "metadata": {},
     "output_type": "execute_result"
    }
   ],
   "source": [
    "candle_fechamento(df)"
   ]
  },
  {
   "cell_type": "code",
   "execution_count": 54,
   "metadata": {},
   "outputs": [
    {
     "name": "stdout",
     "output_type": "stream",
     "text": [
      "            data horário  Preço de abertura  Preço de fechamento  Volume    candle\n",
      "0     2025.01.09   12:05            193.974              193.971    1386  Negativo\n",
      "1     2025.01.09   12:10            193.970              193.937    1440  Negativo\n",
      "2     2025.01.09   12:15            193.935              194.029    1111  Positivo\n",
      "3     2025.01.09   12:20            194.029              194.060    1151  Positivo\n",
      "4     2025.01.09   12:25            194.060              194.036    1259  Negativo\n",
      "...          ...     ...                ...                  ...     ...       ...\n",
      "2042  2025.01.20   14:15            190.766              190.681     718  Negativo\n",
      "2043  2025.01.20   14:20            190.676              190.669     744  Negativo\n",
      "2044  2025.01.20   14:25            190.668              190.627     938  Negativo\n",
      "2045  2025.01.20   14:30            190.622              191.565    5073  Positivo\n",
      "2046  2025.01.20   14:35            191.570              191.514    1266  Negativo\n",
      "\n",
      "[2047 rows x 6 columns]\n"
     ]
    }
   ],
   "source": [
    "print(df)"
   ]
  },
  {
   "cell_type": "code",
   "execution_count": 57,
   "metadata": {},
   "outputs": [
    {
     "name": "stdout",
     "output_type": "stream",
     "text": [
      "candle   Negativo  Positivo\n",
      "horário                    \n",
      "00:00    0.571429  0.428571\n",
      "00:05    0.714286  0.285714\n",
      "00:10    0.571429  0.428571\n",
      "00:15    0.285714  0.714286\n",
      "00:20    0.428571  0.571429\n",
      "...           ...       ...\n",
      "23:35    0.285714  0.714286\n",
      "23:40    0.285714  0.714286\n",
      "23:45    0.142857  0.857143\n",
      "23:50    0.571429  0.428571\n",
      "23:55    0.714286  0.285714\n",
      "\n",
      "[288 rows x 2 columns]\n"
     ]
    }
   ],
   "source": [
    "# Agrupando os dados por horário e calculando a porcentagem de candles positivos\n",
    "resultado = df.groupby('horário')['candle'].value_counts(normalize=True).unstack().fillna(0)\n",
    "print(resultado)"
   ]
  },
  {
   "cell_type": "code",
   "execution_count": 58,
   "metadata": {},
   "outputs": [],
   "source": [
    "resultado['Porcentagem Positiva'] = resultado ['Positivo'] * 100"
   ]
  },
  {
   "cell_type": "code",
   "execution_count": 59,
   "metadata": {},
   "outputs": [],
   "source": [
    "resultado = resultado.sort_values('Porcentagem Positiva', ascending=False)"
   ]
  },
  {
   "cell_type": "code",
   "execution_count": 60,
   "metadata": {},
   "outputs": [
    {
     "name": "stdout",
     "output_type": "stream",
     "text": [
      "candle   Negativo  Positivo  Porcentagem Positiva\n",
      "horário                                          \n",
      "19:35    0.000000  1.000000            100.000000\n",
      "21:05    0.000000  1.000000            100.000000\n",
      "19:20    0.000000  1.000000            100.000000\n",
      "12:25    0.125000  0.875000             87.500000\n",
      "19:25    0.142857  0.857143             85.714286\n",
      "21:30    0.142857  0.857143             85.714286\n",
      "02:35    0.142857  0.857143             85.714286\n",
      "23:30    0.142857  0.857143             85.714286\n",
      "23:45    0.142857  0.857143             85.714286\n",
      "21:45    0.142857  0.857143             85.714286\n",
      "23:10    0.142857  0.857143             85.714286\n",
      "14:10    0.250000  0.750000             75.000000\n",
      "12:10    0.250000  0.750000             75.000000\n",
      "12:35    0.250000  0.750000             75.000000\n",
      "13:45    0.250000  0.750000             75.000000\n",
      "14:30    0.250000  0.750000             75.000000\n",
      "16:40    0.285714  0.714286             71.428571\n",
      "20:25    0.285714  0.714286             71.428571\n",
      "07:20    0.285714  0.714286             71.428571\n",
      "20:35    0.285714  0.714286             71.428571\n"
     ]
    }
   ],
   "source": [
    "print(resultado.head(20))"
   ]
  },
  {
   "cell_type": "code",
   "execution_count": 61,
   "metadata": {},
   "outputs": [
    {
     "name": "stdout",
     "output_type": "stream",
     "text": [
      "candle   Negativo  Positivo  Porcentagem Positiva\n",
      "horário                                          \n",
      "19:35    0.000000  1.000000            100.000000\n",
      "21:05    0.000000  1.000000            100.000000\n",
      "19:20    0.000000  1.000000            100.000000\n",
      "12:25    0.125000  0.875000             87.500000\n",
      "19:25    0.142857  0.857143             85.714286\n",
      "21:30    0.142857  0.857143             85.714286\n",
      "02:35    0.142857  0.857143             85.714286\n",
      "23:30    0.142857  0.857143             85.714286\n",
      "23:45    0.142857  0.857143             85.714286\n",
      "21:45    0.142857  0.857143             85.714286\n",
      "23:10    0.142857  0.857143             85.714286\n",
      "14:10    0.250000  0.750000             75.000000\n",
      "12:10    0.250000  0.750000             75.000000\n",
      "12:35    0.250000  0.750000             75.000000\n",
      "13:45    0.250000  0.750000             75.000000\n",
      "14:30    0.250000  0.750000             75.000000\n",
      "16:40    0.285714  0.714286             71.428571\n",
      "20:25    0.285714  0.714286             71.428571\n",
      "07:20    0.285714  0.714286             71.428571\n",
      "20:35    0.285714  0.714286             71.428571\n",
      "20:50    0.285714  0.714286             71.428571\n",
      "21:20    0.285714  0.714286             71.428571\n",
      "11:00    0.285714  0.714286             71.428571\n",
      "18:25    0.285714  0.714286             71.428571\n",
      "20:20    0.285714  0.714286             71.428571\n",
      "17:45    0.285714  0.714286             71.428571\n",
      "17:05    0.285714  0.714286             71.428571\n",
      "05:35    0.285714  0.714286             71.428571\n",
      "05:40    0.285714  0.714286             71.428571\n",
      "09:25    0.285714  0.714286             71.428571\n",
      "11:15    0.285714  0.714286             71.428571\n",
      "06:20    0.285714  0.714286             71.428571\n",
      "06:25    0.285714  0.714286             71.428571\n",
      "19:50    0.285714  0.714286             71.428571\n",
      "08:45    0.285714  0.714286             71.428571\n",
      "08:35    0.285714  0.714286             71.428571\n",
      "08:20    0.285714  0.714286             71.428571\n",
      "19:10    0.285714  0.714286             71.428571\n",
      "07:30    0.285714  0.714286             71.428571\n",
      "18:15    0.285714  0.714286             71.428571\n",
      "21:55    0.285714  0.714286             71.428571\n",
      "03:50    0.285714  0.714286             71.428571\n",
      "22:45    0.285714  0.714286             71.428571\n",
      "23:40    0.285714  0.714286             71.428571\n",
      "02:00    0.285714  0.714286             71.428571\n",
      "00:50    0.285714  0.714286             71.428571\n",
      "11:40    0.285714  0.714286             71.428571\n",
      "22:30    0.285714  0.714286             71.428571\n",
      "23:35    0.285714  0.714286             71.428571\n",
      "22:05    0.285714  0.714286             71.428571\n",
      "15:40    0.285714  0.714286             71.428571\n",
      "03:05    0.285714  0.714286             71.428571\n",
      "15:55    0.285714  0.714286             71.428571\n",
      "03:15    0.285714  0.714286             71.428571\n",
      "00:15    0.285714  0.714286             71.428571\n",
      "23:15    0.285714  0.714286             71.428571\n",
      "14:00    0.375000  0.625000             62.500000\n",
      "13:55    0.375000  0.625000             62.500000\n",
      "13:35    0.375000  0.625000             62.500000\n",
      "12:30    0.375000  0.625000             62.500000\n"
     ]
    }
   ],
   "source": [
    "filtro = resultado[resultado['Porcentagem Positiva'] > 60 ]\n",
    "print(filtro)"
   ]
  }
 ],
 "metadata": {
  "kernelspec": {
   "display_name": "Python 3",
   "language": "python",
   "name": "python3"
  },
  "language_info": {
   "codemirror_mode": {
    "name": "ipython",
    "version": 3
   },
   "file_extension": ".py",
   "mimetype": "text/x-python",
   "name": "python",
   "nbconvert_exporter": "python",
   "pygments_lexer": "ipython3",
   "version": "3.10.5"
  }
 },
 "nbformat": 4,
 "nbformat_minor": 2
}

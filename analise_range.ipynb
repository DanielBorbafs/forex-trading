{
 "cells": [
  {
   "cell_type": "code",
   "execution_count": 206,
   "metadata": {},
   "outputs": [],
   "source": [
    "import pandas as pd"
   ]
  },
  {
   "cell_type": "code",
   "execution_count": 211,
   "metadata": {},
   "outputs": [
    {
     "name": "stdout",
     "output_type": "stream",
     "text": [
      "            dia  Preço de abertura  Preço de fechamento  Preço Máximo  Preço Mínimo  Volume\n",
      "0    2024-07-12            1.09015              1.09054       1.09113       1.09010   19567\n",
      "1    2024-07-15            1.08917              1.08909       1.09222       1.08837  224596\n",
      "2    2024-07-16            1.08908              1.09042       1.09068       1.08715  214916\n",
      "3    2024-07-17            1.09043              1.09350       1.09480       1.08950  253849\n",
      "4    2024-07-18            1.09350              1.08920       1.09388       1.08863  226971\n",
      "..          ...                ...                  ...           ...           ...     ...\n",
      "137  2025-01-21            1.03877              1.04136       1.04353       1.03420  175993\n",
      "138  2025-01-22            1.04136              1.04035       1.04573       1.03967  174932\n",
      "139  2025-01-23            1.04035              1.04486       1.04489       1.03719  188091\n",
      "140  2025-01-24            1.04485              1.04919       1.05213       1.04364  178863\n",
      "141  2025-01-27            1.04659              1.04369       1.05330       1.04283  233044\n",
      "\n",
      "[142 rows x 6 columns]\n"
     ]
    }
   ],
   "source": [
    "\n",
    "\n",
    "# Carregar o arquivo CSV\n",
    "df = pd.read_csv(\"EURUSD_M1.csv\")  # Certifique-se de substituir pelo caminho correto\n",
    "\n",
    "# Renomear as colunas para facilitar a manipulação\n",
    "df.columns = ['data', 'Preço de abertura', 'Preço Máximo', 'Preço Mínimo', 'Preço de fechamento', 'Volume']\n",
    "\n",
    "# Converter a coluna 'data' para datetime, caso não tenha sido convertido ainda\n",
    "df[\"data\"] = pd.to_datetime(df[\"data\"], errors='coerce')  # 'errors=\"coerce\"' converte valores inválidos em NaT\n",
    "\n",
    "df_filtrado = df[~df['data'].dt.year.isin(range(2017, 2024))]\n",
    "\n",
    "# Extraia o horário da coluna 'data' para facilitar o filtro\n",
    "df_filtrado[\"hora\"] = df_filtrado[\"data\"].dt.time  # Formato de hora: \"HH:MM:SS\"\n",
    "\n",
    "# Crie duas condições para horários >= 23:00 OU < 03:00\n",
    "filtro_horario = (df_filtrado[\"hora\"] >= pd.to_datetime(\"10:00:00\").time()) | (df_filtrado[\"hora\"] < pd.to_datetime(\"12:00:00\").time())\n",
    "\n",
    "# Filtrar os dados com base no horário\n",
    "df_filtrado = df_filtrado[filtro_horario]\n",
    "\n",
    "# Adicionar uma coluna \"dia\" para agrupar por dias diferentes\n",
    "df_filtrado[\"dia\"] = df_filtrado[\"data\"].dt.date\n",
    "\n",
    "# Agrupar os dados por dia e calcular estatísticas do período\n",
    "resultado = df_filtrado.groupby(\"dia\").agg({\n",
    "    \"Preço de abertura\": \"first\",\n",
    "    \"Preço de fechamento\": \"last\",\n",
    "    \"Preço Máximo\": \"max\",\n",
    "    \"Preço Mínimo\": \"min\",\n",
    "    \"Volume\": \"sum\"\n",
    "}).reset_index()\n",
    "\n",
    "# Exibir o resultado\n",
    "print(resultado)\n"
   ]
  },
  {
   "cell_type": "code",
   "execution_count": 208,
   "metadata": {},
   "outputs": [
    {
     "name": "stdout",
     "output_type": "stream",
     "text": [
      "            dia  Preço de abertura  Preço de fechamento  Preço Máximo  Preço Mínimo  Volume Classificação\n",
      "0    2024-07-12            1.09015              1.09054       1.09113       1.09010   19567         Venda\n",
      "1    2024-07-15            1.08917              1.08909       1.09222       1.08837  224596        Compra\n",
      "2    2024-07-16            1.08908              1.09042       1.09068       1.08715  214916         Venda\n",
      "3    2024-07-17            1.09043              1.09350       1.09480       1.08950  253849         Venda\n",
      "4    2024-07-18            1.09350              1.08920       1.09388       1.08863  226971        Compra\n",
      "..          ...                ...                  ...           ...           ...     ...           ...\n",
      "137  2025-01-21            1.03877              1.04136       1.04353       1.03420  175993         Venda\n",
      "138  2025-01-22            1.04136              1.04035       1.04573       1.03967  174932        Compra\n",
      "139  2025-01-23            1.04035              1.04486       1.04489       1.03719  188091         Venda\n",
      "140  2025-01-24            1.04485              1.04919       1.05213       1.04364  178863         Venda\n",
      "141  2025-01-27            1.04659              1.04369       1.05330       1.04283  233044        Compra\n",
      "\n",
      "[142 rows x 7 columns]\n"
     ]
    }
   ],
   "source": [
    "# Função para classificar o período como \"Compra\" ou \"Venda\"\n",
    "def classificar_periodo(row):\n",
    "    if row[\"Preço de fechamento\"] < row[\"Preço de abertura\"]:\n",
    "        return \"Compra\"\n",
    "    elif row[\"Preço de fechamento\"] > row[\"Preço de abertura\"]:\n",
    "        return \"Venda\"\n",
    "    else:\n",
    "        return \"Neutro\"  # Caso os preços sejam iguais\n",
    "\n",
    "# Adicionar a nova coluna com a classificação\n",
    "resultado[\"Classificação\"] = resultado.apply(classificar_periodo, axis=1)\n",
    "\n",
    "# Exibir o DataFrame atualizado\n",
    "print(resultado)\n"
   ]
  },
  {
   "cell_type": "code",
   "execution_count": 209,
   "metadata": {},
   "outputs": [],
   "source": [
    "contagem = resultado['Classificação'].value_counts()"
   ]
  },
  {
   "cell_type": "code",
   "execution_count": 210,
   "metadata": {},
   "outputs": [
    {
     "name": "stdout",
     "output_type": "stream",
     "text": [
      "Classificação\n",
      "Compra    58.450704\n",
      "Venda     41.549296\n",
      "Name: count, dtype: float64\n"
     ]
    }
   ],
   "source": [
    "porcentagem = (contagem / contagem.sum()) * 100\n",
    "print(porcentagem)"
   ]
  }
 ],
 "metadata": {
  "kernelspec": {
   "display_name": "Python 3",
   "language": "python",
   "name": "python3"
  },
  "language_info": {
   "codemirror_mode": {
    "name": "ipython",
    "version": 3
   },
   "file_extension": ".py",
   "mimetype": "text/x-python",
   "name": "python",
   "nbconvert_exporter": "python",
   "pygments_lexer": "ipython3",
   "version": "3.13.1"
  }
 },
 "nbformat": 4,
 "nbformat_minor": 2
}

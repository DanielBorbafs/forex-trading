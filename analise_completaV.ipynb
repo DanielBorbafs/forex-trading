{
  "nbformat": 4,
  "nbformat_minor": 0,
  "metadata": {
    "colab": {
      "provenance": []
    },
    "kernelspec": {
      "name": "python3",
      "display_name": "Python 3"
    },
    "language_info": {
      "name": "python"
    }
  },
  "cells": [
    {
      "cell_type": "code",
      "execution_count": null,
      "metadata": {
        "id": "bmPdR-5yZTp3"
      },
      "outputs": [],
      "source": [
        "import pandas as pd"
      ]
    },
    {
      "cell_type": "code",
      "source": [
        "df = pd.read_csv('EURJPY_M5low.csv')"
      ],
      "metadata": {
        "id": "NeVpVFK1Zf-5",
        "outputId": "125e72a2-4e2a-4825-d817-989c4c9b2c46",
        "colab": {
          "base_uri": "https://localhost:8080/",
          "height": 141
        }
      },
      "execution_count": null,
      "outputs": [
        {
          "output_type": "error",
          "ename": "NameError",
          "evalue": "name 'pd' is not defined",
          "traceback": [
            "\u001b[0;31m---------------------------------------------------------------------------\u001b[0m",
            "\u001b[0;31mNameError\u001b[0m                                 Traceback (most recent call last)",
            "\u001b[0;32m<ipython-input-1-a61209571a7d>\u001b[0m in \u001b[0;36m<cell line: 0>\u001b[0;34m()\u001b[0m\n\u001b[0;32m----> 1\u001b[0;31m \u001b[0mdf\u001b[0m \u001b[0;34m=\u001b[0m \u001b[0mpd\u001b[0m\u001b[0;34m.\u001b[0m\u001b[0mread_csv\u001b[0m\u001b[0;34m(\u001b[0m\u001b[0;34m'EURJPY_M5low.csv'\u001b[0m\u001b[0;34m)\u001b[0m\u001b[0;34m\u001b[0m\u001b[0;34m\u001b[0m\u001b[0m\n\u001b[0m",
            "\u001b[0;31mNameError\u001b[0m: name 'pd' is not defined"
          ]
        }
      ]
    },
    {
      "cell_type": "code",
      "source": [
        "print(df.head())"
      ],
      "metadata": {
        "colab": {
          "base_uri": "https://localhost:8080/"
        },
        "id": "Cwvtid8_Zm8R",
        "outputId": "18adc144-3865-4016-8051-fdbdb3b69d62"
      },
      "execution_count": null,
      "outputs": [
        {
          "output_type": "stream",
          "name": "stdout",
          "text": [
            "   2024-05-22 07:40  169.799  169.827  169.797  169.816  267\n",
            "0  2024-05-22 07:45  169.817  169.853  169.804  169.820  275\n",
            "1  2024-05-22 07:50  169.822  169.830  169.796  169.814  190\n",
            "2  2024-05-22 07:55  169.818  169.826  169.780  169.815  332\n",
            "3  2024-05-22 08:00  169.811  169.823  169.776  169.792  595\n",
            "4  2024-05-22 08:05  169.789  169.813  169.784  169.799  233\n"
          ]
        }
      ]
    },
    {
      "cell_type": "code",
      "source": [
        "df.columns = ['Data', 'Abertura', 'Maxima', 'Minima','Fechamento', 'Volume']"
      ],
      "metadata": {
        "id": "-YLphESXaEYh"
      },
      "execution_count": null,
      "outputs": []
    },
    {
      "cell_type": "code",
      "source": [
        "print(df.head())"
      ],
      "metadata": {
        "colab": {
          "base_uri": "https://localhost:8080/"
        },
        "id": "mhDSoyDGagBg",
        "outputId": "4afba155-c72b-4c42-fbbf-45f6c099bd6a"
      },
      "execution_count": null,
      "outputs": [
        {
          "output_type": "stream",
          "name": "stdout",
          "text": [
            "               Data  Abertura   Maxima   Minima  Fechamento  Volume\n",
            "0  2024-05-22 07:45   169.817  169.853  169.804     169.820     275\n",
            "1  2024-05-22 07:50   169.822  169.830  169.796     169.814     190\n",
            "2  2024-05-22 07:55   169.818  169.826  169.780     169.815     332\n",
            "3  2024-05-22 08:00   169.811  169.823  169.776     169.792     595\n",
            "4  2024-05-22 08:05   169.789  169.813  169.784     169.799     233\n"
          ]
        }
      ]
    },
    {
      "cell_type": "code",
      "source": [
        "df = df.drop(['Maxima', 'Minima', 'Volume'], axis=1)"
      ],
      "metadata": {
        "id": "7Q6ySwx4auNm"
      },
      "execution_count": null,
      "outputs": []
    },
    {
      "cell_type": "code",
      "source": [
        "print(df.head(20))"
      ],
      "metadata": {
        "colab": {
          "base_uri": "https://localhost:8080/"
        },
        "id": "UN0hHH_4bA5X",
        "outputId": "a146d572-e593-4b47-8252-0a68d696fff0"
      },
      "execution_count": null,
      "outputs": [
        {
          "output_type": "stream",
          "name": "stdout",
          "text": [
            "                Data  Abertura  Fechamento\n",
            "0   2024-05-22 07:45   169.817     169.820\n",
            "1   2024-05-22 07:50   169.822     169.814\n",
            "2   2024-05-22 07:55   169.818     169.815\n",
            "3   2024-05-22 08:00   169.811     169.792\n",
            "4   2024-05-22 08:05   169.789     169.799\n",
            "5   2024-05-22 08:10   169.797     169.731\n",
            "6   2024-05-22 08:15   169.730     169.737\n",
            "7   2024-05-22 08:20   169.736     169.720\n",
            "8   2024-05-22 08:25   169.721     169.742\n",
            "9   2024-05-22 08:30   169.740     169.735\n",
            "10  2024-05-22 08:35   169.734     169.726\n",
            "11  2024-05-22 08:40   169.727     169.734\n",
            "12  2024-05-22 08:45   169.735     169.730\n",
            "13  2024-05-22 08:50   169.730     169.755\n",
            "14  2024-05-22 08:55   169.756     169.752\n",
            "15  2024-05-22 09:00   169.753     169.748\n",
            "16  2024-05-22 09:05   169.745     169.713\n",
            "17  2024-05-22 09:10   169.711     169.690\n",
            "18  2024-05-22 09:15   169.692     169.662\n",
            "19  2024-05-22 09:20   169.662     169.652\n"
          ]
        }
      ]
    },
    {
      "cell_type": "code",
      "source": [
        "df['Resultado'] = (df['Fechamento'] > df['Abertura']).astype(int)"
      ],
      "metadata": {
        "id": "zhtjMTvvbcPW"
      },
      "execution_count": null,
      "outputs": []
    },
    {
      "cell_type": "code",
      "source": [
        "print(df.head(20))"
      ],
      "metadata": {
        "colab": {
          "base_uri": "https://localhost:8080/"
        },
        "id": "WPfGdFd5benV",
        "outputId": "c155f84e-04a1-419b-886f-d99fb158c910"
      },
      "execution_count": null,
      "outputs": [
        {
          "output_type": "stream",
          "name": "stdout",
          "text": [
            "                Data  Abertura  Fechamento  Resultado\n",
            "0   2024-05-22 07:45   169.817     169.820          1\n",
            "1   2024-05-22 07:50   169.822     169.814          0\n",
            "2   2024-05-22 07:55   169.818     169.815          0\n",
            "3   2024-05-22 08:00   169.811     169.792          0\n",
            "4   2024-05-22 08:05   169.789     169.799          1\n",
            "5   2024-05-22 08:10   169.797     169.731          0\n",
            "6   2024-05-22 08:15   169.730     169.737          1\n",
            "7   2024-05-22 08:20   169.736     169.720          0\n",
            "8   2024-05-22 08:25   169.721     169.742          1\n",
            "9   2024-05-22 08:30   169.740     169.735          0\n",
            "10  2024-05-22 08:35   169.734     169.726          0\n",
            "11  2024-05-22 08:40   169.727     169.734          1\n",
            "12  2024-05-22 08:45   169.735     169.730          0\n",
            "13  2024-05-22 08:50   169.730     169.755          1\n",
            "14  2024-05-22 08:55   169.756     169.752          0\n",
            "15  2024-05-22 09:00   169.753     169.748          0\n",
            "16  2024-05-22 09:05   169.745     169.713          0\n",
            "17  2024-05-22 09:10   169.711     169.690          0\n",
            "18  2024-05-22 09:15   169.692     169.662          0\n",
            "19  2024-05-22 09:20   169.662     169.652          0\n"
          ]
        }
      ]
    },
    {
      "cell_type": "code",
      "source": [
        "df['Data'] = pd.to_datetime(df['Data'])"
      ],
      "metadata": {
        "id": "EgTtpf7SbuQE"
      },
      "execution_count": null,
      "outputs": []
    },
    {
      "cell_type": "code",
      "source": [
        "df['Hora'] = df['Data'].dt.time"
      ],
      "metadata": {
        "id": "fJitwR4cbvd8"
      },
      "execution_count": null,
      "outputs": []
    },
    {
      "cell_type": "code",
      "source": [
        "print(df.head(14))"
      ],
      "metadata": {
        "colab": {
          "base_uri": "https://localhost:8080/"
        },
        "id": "qzPbqgUwbx68",
        "outputId": "29f305ef-ad05-41d6-8d51-6777aa0e55c1"
      },
      "execution_count": null,
      "outputs": [
        {
          "output_type": "stream",
          "name": "stdout",
          "text": [
            "                  Data  Abertura  Fechamento  Resultado      Hora\n",
            "0  2024-05-22 07:45:00   169.817     169.820          1  07:45:00\n",
            "1  2024-05-22 07:50:00   169.822     169.814          0  07:50:00\n",
            "2  2024-05-22 07:55:00   169.818     169.815          0  07:55:00\n",
            "3  2024-05-22 08:00:00   169.811     169.792          0  08:00:00\n",
            "4  2024-05-22 08:05:00   169.789     169.799          1  08:05:00\n",
            "5  2024-05-22 08:10:00   169.797     169.731          0  08:10:00\n",
            "6  2024-05-22 08:15:00   169.730     169.737          1  08:15:00\n",
            "7  2024-05-22 08:20:00   169.736     169.720          0  08:20:00\n",
            "8  2024-05-22 08:25:00   169.721     169.742          1  08:25:00\n",
            "9  2024-05-22 08:30:00   169.740     169.735          0  08:30:00\n",
            "10 2024-05-22 08:35:00   169.734     169.726          0  08:35:00\n",
            "11 2024-05-22 08:40:00   169.727     169.734          1  08:40:00\n",
            "12 2024-05-22 08:45:00   169.735     169.730          0  08:45:00\n",
            "13 2024-05-22 08:50:00   169.730     169.755          1  08:50:00\n"
          ]
        }
      ]
    },
    {
      "cell_type": "code",
      "source": [
        "df = df.drop(columns=['Data'])"
      ],
      "metadata": {
        "id": "vpCGS3fzb2AU"
      },
      "execution_count": null,
      "outputs": []
    },
    {
      "cell_type": "code",
      "source": [
        "print(df.head(14))"
      ],
      "metadata": {
        "colab": {
          "base_uri": "https://localhost:8080/"
        },
        "id": "Lbt41t3ab640",
        "outputId": "5df699f7-09ee-4edf-be41-4307d2eed470"
      },
      "execution_count": null,
      "outputs": [
        {
          "output_type": "stream",
          "name": "stdout",
          "text": [
            "    Abertura  Fechamento  Resultado      Hora\n",
            "0    169.817     169.820          1  07:45:00\n",
            "1    169.822     169.814          0  07:50:00\n",
            "2    169.818     169.815          0  07:55:00\n",
            "3    169.811     169.792          0  08:00:00\n",
            "4    169.789     169.799          1  08:05:00\n",
            "5    169.797     169.731          0  08:10:00\n",
            "6    169.730     169.737          1  08:15:00\n",
            "7    169.736     169.720          0  08:20:00\n",
            "8    169.721     169.742          1  08:25:00\n",
            "9    169.740     169.735          0  08:30:00\n",
            "10   169.734     169.726          0  08:35:00\n",
            "11   169.727     169.734          1  08:40:00\n",
            "12   169.735     169.730          0  08:45:00\n",
            "13   169.730     169.755          1  08:50:00\n"
          ]
        }
      ]
    },
    {
      "cell_type": "code",
      "source": [],
      "metadata": {
        "id": "ceYcUOBahlDR"
      },
      "execution_count": null,
      "outputs": []
    },
    {
      "cell_type": "code",
      "source": [
        "resultado_agrupado = df.groupby('Hora')['Resultado'].value_counts().unstack(fill_value=0)"
      ],
      "metadata": {
        "id": "MfQx5lAjcLB8"
      },
      "execution_count": null,
      "outputs": []
    },
    {
      "cell_type": "code",
      "source": [
        "print(resultado_agrupado.to_string())"
      ],
      "metadata": {
        "colab": {
          "base_uri": "https://localhost:8080/"
        },
        "collapsed": true,
        "id": "xRBT8zWCcMgs",
        "outputId": "4328d489-429f-4c63-b3b6-6118f88f1c57"
      },
      "execution_count": null,
      "outputs": [
        {
          "output_type": "stream",
          "name": "stdout",
          "text": [
            "Resultado    0    1\n",
            "Hora               \n",
            "00:00:00    95   79\n",
            "00:05:00    94   80\n",
            "00:10:00    77   98\n",
            "00:15:00    83   92\n",
            "00:20:00    92   83\n",
            "00:25:00    84   91\n",
            "00:30:00    82   93\n",
            "00:35:00    80   95\n",
            "00:40:00    78   97\n",
            "00:45:00    95   80\n",
            "00:50:00    62  113\n",
            "00:55:00   115   60\n",
            "01:00:00   101   74\n",
            "01:05:00    92   83\n",
            "01:10:00    95   80\n",
            "01:15:00    82   93\n",
            "01:20:00    90   85\n",
            "01:25:00    77   98\n",
            "01:30:00   100   75\n",
            "01:35:00    85   90\n",
            "01:40:00    91   84\n",
            "01:45:00    94   81\n",
            "01:50:00   109   66\n",
            "01:55:00    97   78\n",
            "02:00:00    99   76\n",
            "02:05:00    88   87\n",
            "02:10:00    83   92\n",
            "02:15:00    89   86\n",
            "02:20:00    85   90\n",
            "02:25:00    79   96\n",
            "02:30:00    91   84\n",
            "02:35:00    87   88\n",
            "02:40:00    92   83\n",
            "02:45:00    77   98\n",
            "02:50:00    70  105\n",
            "02:55:00    55  120\n",
            "03:00:00   105   69\n",
            "03:05:00    92   82\n",
            "03:10:00    92   82\n",
            "03:15:00    90   84\n",
            "03:20:00    92   82\n",
            "03:25:00    92   82\n",
            "03:30:00    90   84\n",
            "03:35:00    87   87\n",
            "03:40:00    80   94\n",
            "03:45:00    90   84\n",
            "03:50:00   100   74\n",
            "03:55:00    89   85\n",
            "04:00:00    98   76\n",
            "04:05:00    91   83\n",
            "04:10:00    77   97\n",
            "04:15:00   102   72\n",
            "04:20:00    83   91\n",
            "04:25:00    95   79\n",
            "04:30:00    97   77\n",
            "04:35:00    97   77\n",
            "04:40:00    88   86\n",
            "04:45:00    75   99\n",
            "04:50:00    77   97\n",
            "04:55:00    88   85\n",
            "05:00:00    80   94\n",
            "05:05:00    83   91\n",
            "05:10:00    86   88\n",
            "05:15:00    92   82\n",
            "05:20:00    92   82\n",
            "05:25:00    88   86\n",
            "05:30:00    85   89\n",
            "05:35:00    87   87\n",
            "05:40:00    91   83\n",
            "05:45:00    94   80\n",
            "05:50:00    93   81\n",
            "05:55:00    85   89\n",
            "06:00:00   102   72\n",
            "06:05:00    83   91\n",
            "06:10:00    96   78\n",
            "06:15:00    77   97\n",
            "06:20:00    81   93\n",
            "06:25:00    79   95\n",
            "06:30:00    89   85\n",
            "06:35:00    80   94\n",
            "06:40:00    91   83\n",
            "06:45:00    85   89\n",
            "06:50:00    92   81\n",
            "06:55:00    86   88\n",
            "07:00:00    82   92\n",
            "07:05:00    84   90\n",
            "07:10:00    90   84\n",
            "07:15:00    97   77\n",
            "07:20:00    82   92\n",
            "07:25:00    79   95\n",
            "07:30:00    77   97\n",
            "07:35:00    76   97\n",
            "07:40:00    89   84\n",
            "07:45:00    83   91\n",
            "07:50:00    90   85\n",
            "07:55:00    72  103\n",
            "08:00:00    93   81\n",
            "08:05:00    77   97\n",
            "08:10:00    76   98\n",
            "08:15:00    99   75\n",
            "08:20:00    87   87\n",
            "08:25:00    75   99\n",
            "08:30:00    87   87\n",
            "08:35:00    86   88\n",
            "08:40:00    82   92\n",
            "08:45:00    87   87\n",
            "08:50:00    87   87\n",
            "08:55:00    72  102\n",
            "09:00:00    91   83\n",
            "09:05:00    94   80\n",
            "09:10:00    91   83\n",
            "09:15:00    89   85\n",
            "09:20:00    99   75\n",
            "09:25:00    73  101\n",
            "09:30:00    95   79\n",
            "09:35:00    99   75\n",
            "09:40:00   103   71\n",
            "09:45:00    88   86\n",
            "09:50:00    75   99\n",
            "09:55:00    66  108\n",
            "10:00:00    97   77\n",
            "10:05:00   106   68\n",
            "10:10:00    77   97\n",
            "10:15:00    82   92\n",
            "10:20:00    75   99\n",
            "10:25:00    84   90\n",
            "10:30:00    84   90\n",
            "10:35:00    99   75\n",
            "10:40:00    92   82\n",
            "10:45:00    94   80\n",
            "10:50:00    83   91\n",
            "10:55:00    91   83\n",
            "11:00:00    74  100\n",
            "11:05:00    81   93\n",
            "11:10:00    80   94\n",
            "11:15:00    86   88\n",
            "11:20:00    84   90\n",
            "11:25:00    89   85\n",
            "11:30:00    95   79\n",
            "11:35:00    88   86\n",
            "11:40:00    79   95\n",
            "11:45:00    83   91\n",
            "11:50:00    88   86\n",
            "11:55:00    85   89\n",
            "12:00:00    77   97\n",
            "12:05:00   100   74\n",
            "12:10:00    89   85\n",
            "12:15:00    84   90\n",
            "12:20:00    83   91\n",
            "12:25:00   111   63\n",
            "12:30:00    89   85\n",
            "12:35:00    84   90\n",
            "12:40:00    90   84\n",
            "12:45:00    81   93\n",
            "12:50:00    80   94\n",
            "12:55:00    82   92\n",
            "13:00:00    88   86\n",
            "13:05:00    88   86\n",
            "13:10:00    91   83\n",
            "13:15:00    85   89\n",
            "13:20:00    91   83\n",
            "13:25:00    87   87\n",
            "13:30:00    91   83\n",
            "13:35:00    84   90\n",
            "13:40:00    91   83\n",
            "13:45:00    83   91\n",
            "13:50:00    82   92\n",
            "13:55:00    89   85\n",
            "14:00:00    99   75\n",
            "14:05:00    97   77\n",
            "14:10:00    87   87\n",
            "14:15:00    81   93\n",
            "14:20:00    87   87\n",
            "14:25:00    84   90\n",
            "14:30:00    92   82\n",
            "14:35:00    89   85\n",
            "14:40:00    89   85\n",
            "14:45:00    86   88\n",
            "14:50:00    95   79\n",
            "14:55:00    81   93\n",
            "15:00:00    91   83\n",
            "15:05:00    73  101\n",
            "15:10:00    85   89\n",
            "15:15:00    96   78\n",
            "15:20:00    93   81\n",
            "15:25:00    82   92\n",
            "15:30:00    81   93\n",
            "15:35:00    94   80\n",
            "15:40:00    80   94\n",
            "15:45:00    95   79\n",
            "15:50:00    93   81\n",
            "15:55:00    79   95\n",
            "16:00:00    88   86\n",
            "16:05:00    83   91\n",
            "16:10:00    85   89\n",
            "16:15:00    96   78\n",
            "16:20:00    74  100\n",
            "16:25:00    78   96\n",
            "16:30:00    91   83\n",
            "16:35:00    90   84\n",
            "16:40:00    91   83\n",
            "16:45:00    93   81\n",
            "16:50:00    85   89\n",
            "16:55:00    98   76\n",
            "17:00:00    93   81\n",
            "17:05:00    93   81\n",
            "17:10:00    91   83\n",
            "17:15:00    88   86\n",
            "17:20:00    86   88\n",
            "17:25:00    85   89\n",
            "17:30:00    94   80\n",
            "17:35:00    82   92\n",
            "17:40:00    90   84\n",
            "17:45:00    75   99\n",
            "17:50:00    95   79\n",
            "17:55:00    82   92\n",
            "18:00:00    96   78\n",
            "18:05:00    89   85\n",
            "18:10:00    89   85\n",
            "18:15:00    98   76\n",
            "18:20:00    81   93\n",
            "18:25:00    85   89\n",
            "18:30:00    78   96\n",
            "18:35:00    90   84\n",
            "18:40:00    78   96\n",
            "18:45:00    88   86\n",
            "18:50:00    85   89\n",
            "18:55:00    90   84\n",
            "19:00:00    85   89\n",
            "19:05:00    97   77\n",
            "19:10:00    96   78\n",
            "19:15:00    79   95\n",
            "19:20:00    80   94\n",
            "19:25:00    90   84\n",
            "19:30:00    88   86\n",
            "19:35:00    90   84\n",
            "19:40:00    92   82\n",
            "19:45:00    81   93\n",
            "19:50:00    80   94\n",
            "19:55:00    72  102\n",
            "20:00:00    94   80\n",
            "20:05:00    63  111\n",
            "20:10:00    89   85\n",
            "20:15:00    87   87\n",
            "20:20:00    91   83\n",
            "20:25:00    95   79\n",
            "20:30:00    73  101\n",
            "20:35:00    88   86\n",
            "20:40:00    83   91\n",
            "20:45:00    83   91\n",
            "20:50:00    86   88\n",
            "20:55:00   117   57\n",
            "21:00:00    50   48\n",
            "21:05:00    39  129\n",
            "21:10:00    57  113\n",
            "21:15:00    82   89\n",
            "21:20:00    89   84\n",
            "21:25:00    77   96\n",
            "21:30:00    50  123\n",
            "21:35:00    86   87\n",
            "21:40:00    88   84\n",
            "21:45:00    81   91\n",
            "21:50:00    92   81\n",
            "21:55:00    96   76\n",
            "22:00:00    56   77\n",
            "22:05:00    78   90\n",
            "22:10:00    75   99\n",
            "22:15:00    72  102\n",
            "22:20:00    79   95\n",
            "22:25:00    80   94\n",
            "22:30:00    67  107\n",
            "22:35:00    74  100\n",
            "22:40:00    85   89\n",
            "22:45:00    86   89\n",
            "22:50:00    81   94\n",
            "22:55:00   103   72\n",
            "23:00:00    73  102\n",
            "23:05:00    86   89\n",
            "23:10:00    79   94\n",
            "23:15:00    87   87\n",
            "23:20:00    84   90\n",
            "23:25:00    90   84\n",
            "23:30:00    85   89\n",
            "23:35:00   101   72\n",
            "23:40:00    74   99\n",
            "23:45:00   103   71\n",
            "23:50:00    86   88\n",
            "23:55:00    69  105\n"
          ]
        }
      ]
    },
    {
      "cell_type": "code",
      "source": [
        "resultado_agrupado['Total'] = resultado_agrupado[0] + resultado_agrupado[1]\n",
        "resultado_agrupado['Positivo (%)'] = (resultado_agrupado[1] / resultado_agrupado['Total']) * 100\n",
        "resultado_agrupado['Negativo (%)'] = (resultado_agrupado[0] / resultado_agrupado['Total']) * 100\n",
        "\n",
        "# Exibindo o resultado com porcentagens"
      ],
      "metadata": {
        "id": "P5h8NZmCc8y6"
      },
      "execution_count": null,
      "outputs": []
    },
    {
      "cell_type": "code",
      "source": [
        "resultado_agrupado_positivo = resultado_agrupado.sort_values(by='Positivo (%)', ascending=False)"
      ],
      "metadata": {
        "id": "vbsqUGgWdlz5"
      },
      "execution_count": null,
      "outputs": []
    },
    {
      "cell_type": "code",
      "source": [
        "print(resultado_agrupado_positivo[['Positivo (%)']])"
      ],
      "metadata": {
        "colab": {
          "base_uri": "https://localhost:8080/"
        },
        "id": "HOKVbIjWc-gi",
        "outputId": "1ffeb38f-5c81-47c2-e536-dd3c1059f7f2"
      },
      "execution_count": null,
      "outputs": [
        {
          "output_type": "stream",
          "name": "stdout",
          "text": [
            "Resultado  Positivo (%)\n",
            "Hora                   \n",
            "21:05:00      76.785714\n",
            "21:30:00      71.098266\n",
            "02:55:00      68.571429\n",
            "21:10:00      66.470588\n",
            "00:50:00      64.571429\n",
            "...                 ...\n",
            "10:05:00      39.080460\n",
            "01:50:00      37.714286\n",
            "12:25:00      36.206897\n",
            "00:55:00      34.285714\n",
            "20:55:00      32.758621\n",
            "\n",
            "[288 rows x 1 columns]\n"
          ]
        }
      ]
    },
    {
      "cell_type": "code",
      "source": [
        "print(df.head())"
      ],
      "metadata": {
        "colab": {
          "base_uri": "https://localhost:8080/"
        },
        "id": "h3PpjqLTihhX",
        "outputId": "44fcb0e8-19af-4b3b-ed76-7e6a08ece4f3"
      },
      "execution_count": null,
      "outputs": [
        {
          "output_type": "stream",
          "name": "stdout",
          "text": [
            "   Abertura  Fechamento  Resultado      Hora\n",
            "0   169.817     169.820          1  07:45:00\n",
            "1   169.822     169.814          0  07:50:00\n",
            "2   169.818     169.815          0  07:55:00\n",
            "3   169.811     169.792          0  08:00:00\n",
            "4   169.789     169.799          1  08:05:00\n"
          ]
        }
      ]
    },
    {
      "cell_type": "markdown",
      "source": [
        "Trazer todos registros que tem a Hora como: 21:05:00"
      ],
      "metadata": {
        "id": "O1zUElgAi5yg"
      }
    },
    {
      "cell_type": "code",
      "source": [
        "# prompt: Trazer todos registros que tem a Hora como: 21:05:00\n",
        "\n",
        "# Trazer todos registros que tem a Hora como: 21:05:00\n",
        "hora_especifica = pd.to_datetime('21:05:00').time()\n",
        "registros_21_05 = df[df['Hora'] == hora_especifica]\n",
        "registros_21_05"
      ],
      "metadata": {
        "colab": {
          "base_uri": "https://localhost:8080/",
          "height": 423
        },
        "id": "bJP3u6R-i-nP",
        "outputId": "e9326bb1-1bd0-4f55-f1d7-430442152cb2"
      },
      "execution_count": null,
      "outputs": [
        {
          "output_type": "execute_result",
          "data": {
            "text/plain": [
              "       Abertura  Fechamento  Resultado      Hora\n",
              "160     169.554     169.626          1  21:05:00\n",
              "447     169.543     169.644          1  21:05:00\n",
              "734     170.207     170.222          1  21:05:00\n",
              "1022    170.239     170.303          1  21:05:00\n",
              "1310    170.466     170.595          1  21:05:00\n",
              "...         ...         ...        ...       ...\n",
              "48780   159.830     159.817          0  21:05:00\n",
              "49067   160.475     160.452          0  21:05:00\n",
              "49354   162.098     162.071          0  21:05:00\n",
              "49641   162.054     162.070          1  21:05:00\n",
              "49928   162.985     162.994          1  21:05:00\n",
              "\n",
              "[168 rows x 4 columns]"
            ],
            "text/html": [
              "\n",
              "  <div id=\"df-d8c4f46c-84d6-443e-a63d-f36bbd65a48c\" class=\"colab-df-container\">\n",
              "    <div>\n",
              "<style scoped>\n",
              "    .dataframe tbody tr th:only-of-type {\n",
              "        vertical-align: middle;\n",
              "    }\n",
              "\n",
              "    .dataframe tbody tr th {\n",
              "        vertical-align: top;\n",
              "    }\n",
              "\n",
              "    .dataframe thead th {\n",
              "        text-align: right;\n",
              "    }\n",
              "</style>\n",
              "<table border=\"1\" class=\"dataframe\">\n",
              "  <thead>\n",
              "    <tr style=\"text-align: right;\">\n",
              "      <th></th>\n",
              "      <th>Abertura</th>\n",
              "      <th>Fechamento</th>\n",
              "      <th>Resultado</th>\n",
              "      <th>Hora</th>\n",
              "    </tr>\n",
              "  </thead>\n",
              "  <tbody>\n",
              "    <tr>\n",
              "      <th>160</th>\n",
              "      <td>169.554</td>\n",
              "      <td>169.626</td>\n",
              "      <td>1</td>\n",
              "      <td>21:05:00</td>\n",
              "    </tr>\n",
              "    <tr>\n",
              "      <th>447</th>\n",
              "      <td>169.543</td>\n",
              "      <td>169.644</td>\n",
              "      <td>1</td>\n",
              "      <td>21:05:00</td>\n",
              "    </tr>\n",
              "    <tr>\n",
              "      <th>734</th>\n",
              "      <td>170.207</td>\n",
              "      <td>170.222</td>\n",
              "      <td>1</td>\n",
              "      <td>21:05:00</td>\n",
              "    </tr>\n",
              "    <tr>\n",
              "      <th>1022</th>\n",
              "      <td>170.239</td>\n",
              "      <td>170.303</td>\n",
              "      <td>1</td>\n",
              "      <td>21:05:00</td>\n",
              "    </tr>\n",
              "    <tr>\n",
              "      <th>1310</th>\n",
              "      <td>170.466</td>\n",
              "      <td>170.595</td>\n",
              "      <td>1</td>\n",
              "      <td>21:05:00</td>\n",
              "    </tr>\n",
              "    <tr>\n",
              "      <th>...</th>\n",
              "      <td>...</td>\n",
              "      <td>...</td>\n",
              "      <td>...</td>\n",
              "      <td>...</td>\n",
              "    </tr>\n",
              "    <tr>\n",
              "      <th>48780</th>\n",
              "      <td>159.830</td>\n",
              "      <td>159.817</td>\n",
              "      <td>0</td>\n",
              "      <td>21:05:00</td>\n",
              "    </tr>\n",
              "    <tr>\n",
              "      <th>49067</th>\n",
              "      <td>160.475</td>\n",
              "      <td>160.452</td>\n",
              "      <td>0</td>\n",
              "      <td>21:05:00</td>\n",
              "    </tr>\n",
              "    <tr>\n",
              "      <th>49354</th>\n",
              "      <td>162.098</td>\n",
              "      <td>162.071</td>\n",
              "      <td>0</td>\n",
              "      <td>21:05:00</td>\n",
              "    </tr>\n",
              "    <tr>\n",
              "      <th>49641</th>\n",
              "      <td>162.054</td>\n",
              "      <td>162.070</td>\n",
              "      <td>1</td>\n",
              "      <td>21:05:00</td>\n",
              "    </tr>\n",
              "    <tr>\n",
              "      <th>49928</th>\n",
              "      <td>162.985</td>\n",
              "      <td>162.994</td>\n",
              "      <td>1</td>\n",
              "      <td>21:05:00</td>\n",
              "    </tr>\n",
              "  </tbody>\n",
              "</table>\n",
              "<p>168 rows × 4 columns</p>\n",
              "</div>\n",
              "    <div class=\"colab-df-buttons\">\n",
              "\n",
              "  <div class=\"colab-df-container\">\n",
              "    <button class=\"colab-df-convert\" onclick=\"convertToInteractive('df-d8c4f46c-84d6-443e-a63d-f36bbd65a48c')\"\n",
              "            title=\"Convert this dataframe to an interactive table.\"\n",
              "            style=\"display:none;\">\n",
              "\n",
              "  <svg xmlns=\"http://www.w3.org/2000/svg\" height=\"24px\" viewBox=\"0 -960 960 960\">\n",
              "    <path d=\"M120-120v-720h720v720H120Zm60-500h600v-160H180v160Zm220 220h160v-160H400v160Zm0 220h160v-160H400v160ZM180-400h160v-160H180v160Zm440 0h160v-160H620v160ZM180-180h160v-160H180v160Zm440 0h160v-160H620v160Z\"/>\n",
              "  </svg>\n",
              "    </button>\n",
              "\n",
              "  <style>\n",
              "    .colab-df-container {\n",
              "      display:flex;\n",
              "      gap: 12px;\n",
              "    }\n",
              "\n",
              "    .colab-df-convert {\n",
              "      background-color: #E8F0FE;\n",
              "      border: none;\n",
              "      border-radius: 50%;\n",
              "      cursor: pointer;\n",
              "      display: none;\n",
              "      fill: #1967D2;\n",
              "      height: 32px;\n",
              "      padding: 0 0 0 0;\n",
              "      width: 32px;\n",
              "    }\n",
              "\n",
              "    .colab-df-convert:hover {\n",
              "      background-color: #E2EBFA;\n",
              "      box-shadow: 0px 1px 2px rgba(60, 64, 67, 0.3), 0px 1px 3px 1px rgba(60, 64, 67, 0.15);\n",
              "      fill: #174EA6;\n",
              "    }\n",
              "\n",
              "    .colab-df-buttons div {\n",
              "      margin-bottom: 4px;\n",
              "    }\n",
              "\n",
              "    [theme=dark] .colab-df-convert {\n",
              "      background-color: #3B4455;\n",
              "      fill: #D2E3FC;\n",
              "    }\n",
              "\n",
              "    [theme=dark] .colab-df-convert:hover {\n",
              "      background-color: #434B5C;\n",
              "      box-shadow: 0px 1px 3px 1px rgba(0, 0, 0, 0.15);\n",
              "      filter: drop-shadow(0px 1px 2px rgba(0, 0, 0, 0.3));\n",
              "      fill: #FFFFFF;\n",
              "    }\n",
              "  </style>\n",
              "\n",
              "    <script>\n",
              "      const buttonEl =\n",
              "        document.querySelector('#df-d8c4f46c-84d6-443e-a63d-f36bbd65a48c button.colab-df-convert');\n",
              "      buttonEl.style.display =\n",
              "        google.colab.kernel.accessAllowed ? 'block' : 'none';\n",
              "\n",
              "      async function convertToInteractive(key) {\n",
              "        const element = document.querySelector('#df-d8c4f46c-84d6-443e-a63d-f36bbd65a48c');\n",
              "        const dataTable =\n",
              "          await google.colab.kernel.invokeFunction('convertToInteractive',\n",
              "                                                    [key], {});\n",
              "        if (!dataTable) return;\n",
              "\n",
              "        const docLinkHtml = 'Like what you see? Visit the ' +\n",
              "          '<a target=\"_blank\" href=https://colab.research.google.com/notebooks/data_table.ipynb>data table notebook</a>'\n",
              "          + ' to learn more about interactive tables.';\n",
              "        element.innerHTML = '';\n",
              "        dataTable['output_type'] = 'display_data';\n",
              "        await google.colab.output.renderOutput(dataTable, element);\n",
              "        const docLink = document.createElement('div');\n",
              "        docLink.innerHTML = docLinkHtml;\n",
              "        element.appendChild(docLink);\n",
              "      }\n",
              "    </script>\n",
              "  </div>\n",
              "\n",
              "\n",
              "<div id=\"df-6f7637f8-17f0-4ac5-ba1f-62f1e83b35fa\">\n",
              "  <button class=\"colab-df-quickchart\" onclick=\"quickchart('df-6f7637f8-17f0-4ac5-ba1f-62f1e83b35fa')\"\n",
              "            title=\"Suggest charts\"\n",
              "            style=\"display:none;\">\n",
              "\n",
              "<svg xmlns=\"http://www.w3.org/2000/svg\" height=\"24px\"viewBox=\"0 0 24 24\"\n",
              "     width=\"24px\">\n",
              "    <g>\n",
              "        <path d=\"M19 3H5c-1.1 0-2 .9-2 2v14c0 1.1.9 2 2 2h14c1.1 0 2-.9 2-2V5c0-1.1-.9-2-2-2zM9 17H7v-7h2v7zm4 0h-2V7h2v10zm4 0h-2v-4h2v4z\"/>\n",
              "    </g>\n",
              "</svg>\n",
              "  </button>\n",
              "\n",
              "<style>\n",
              "  .colab-df-quickchart {\n",
              "      --bg-color: #E8F0FE;\n",
              "      --fill-color: #1967D2;\n",
              "      --hover-bg-color: #E2EBFA;\n",
              "      --hover-fill-color: #174EA6;\n",
              "      --disabled-fill-color: #AAA;\n",
              "      --disabled-bg-color: #DDD;\n",
              "  }\n",
              "\n",
              "  [theme=dark] .colab-df-quickchart {\n",
              "      --bg-color: #3B4455;\n",
              "      --fill-color: #D2E3FC;\n",
              "      --hover-bg-color: #434B5C;\n",
              "      --hover-fill-color: #FFFFFF;\n",
              "      --disabled-bg-color: #3B4455;\n",
              "      --disabled-fill-color: #666;\n",
              "  }\n",
              "\n",
              "  .colab-df-quickchart {\n",
              "    background-color: var(--bg-color);\n",
              "    border: none;\n",
              "    border-radius: 50%;\n",
              "    cursor: pointer;\n",
              "    display: none;\n",
              "    fill: var(--fill-color);\n",
              "    height: 32px;\n",
              "    padding: 0;\n",
              "    width: 32px;\n",
              "  }\n",
              "\n",
              "  .colab-df-quickchart:hover {\n",
              "    background-color: var(--hover-bg-color);\n",
              "    box-shadow: 0 1px 2px rgba(60, 64, 67, 0.3), 0 1px 3px 1px rgba(60, 64, 67, 0.15);\n",
              "    fill: var(--button-hover-fill-color);\n",
              "  }\n",
              "\n",
              "  .colab-df-quickchart-complete:disabled,\n",
              "  .colab-df-quickchart-complete:disabled:hover {\n",
              "    background-color: var(--disabled-bg-color);\n",
              "    fill: var(--disabled-fill-color);\n",
              "    box-shadow: none;\n",
              "  }\n",
              "\n",
              "  .colab-df-spinner {\n",
              "    border: 2px solid var(--fill-color);\n",
              "    border-color: transparent;\n",
              "    border-bottom-color: var(--fill-color);\n",
              "    animation:\n",
              "      spin 1s steps(1) infinite;\n",
              "  }\n",
              "\n",
              "  @keyframes spin {\n",
              "    0% {\n",
              "      border-color: transparent;\n",
              "      border-bottom-color: var(--fill-color);\n",
              "      border-left-color: var(--fill-color);\n",
              "    }\n",
              "    20% {\n",
              "      border-color: transparent;\n",
              "      border-left-color: var(--fill-color);\n",
              "      border-top-color: var(--fill-color);\n",
              "    }\n",
              "    30% {\n",
              "      border-color: transparent;\n",
              "      border-left-color: var(--fill-color);\n",
              "      border-top-color: var(--fill-color);\n",
              "      border-right-color: var(--fill-color);\n",
              "    }\n",
              "    40% {\n",
              "      border-color: transparent;\n",
              "      border-right-color: var(--fill-color);\n",
              "      border-top-color: var(--fill-color);\n",
              "    }\n",
              "    60% {\n",
              "      border-color: transparent;\n",
              "      border-right-color: var(--fill-color);\n",
              "    }\n",
              "    80% {\n",
              "      border-color: transparent;\n",
              "      border-right-color: var(--fill-color);\n",
              "      border-bottom-color: var(--fill-color);\n",
              "    }\n",
              "    90% {\n",
              "      border-color: transparent;\n",
              "      border-bottom-color: var(--fill-color);\n",
              "    }\n",
              "  }\n",
              "</style>\n",
              "\n",
              "  <script>\n",
              "    async function quickchart(key) {\n",
              "      const quickchartButtonEl =\n",
              "        document.querySelector('#' + key + ' button');\n",
              "      quickchartButtonEl.disabled = true;  // To prevent multiple clicks.\n",
              "      quickchartButtonEl.classList.add('colab-df-spinner');\n",
              "      try {\n",
              "        const charts = await google.colab.kernel.invokeFunction(\n",
              "            'suggestCharts', [key], {});\n",
              "      } catch (error) {\n",
              "        console.error('Error during call to suggestCharts:', error);\n",
              "      }\n",
              "      quickchartButtonEl.classList.remove('colab-df-spinner');\n",
              "      quickchartButtonEl.classList.add('colab-df-quickchart-complete');\n",
              "    }\n",
              "    (() => {\n",
              "      let quickchartButtonEl =\n",
              "        document.querySelector('#df-6f7637f8-17f0-4ac5-ba1f-62f1e83b35fa button');\n",
              "      quickchartButtonEl.style.display =\n",
              "        google.colab.kernel.accessAllowed ? 'block' : 'none';\n",
              "    })();\n",
              "  </script>\n",
              "</div>\n",
              "\n",
              "  <div id=\"id_93e1ae1b-960e-4c1b-ad75-eea1746b352e\">\n",
              "    <style>\n",
              "      .colab-df-generate {\n",
              "        background-color: #E8F0FE;\n",
              "        border: none;\n",
              "        border-radius: 50%;\n",
              "        cursor: pointer;\n",
              "        display: none;\n",
              "        fill: #1967D2;\n",
              "        height: 32px;\n",
              "        padding: 0 0 0 0;\n",
              "        width: 32px;\n",
              "      }\n",
              "\n",
              "      .colab-df-generate:hover {\n",
              "        background-color: #E2EBFA;\n",
              "        box-shadow: 0px 1px 2px rgba(60, 64, 67, 0.3), 0px 1px 3px 1px rgba(60, 64, 67, 0.15);\n",
              "        fill: #174EA6;\n",
              "      }\n",
              "\n",
              "      [theme=dark] .colab-df-generate {\n",
              "        background-color: #3B4455;\n",
              "        fill: #D2E3FC;\n",
              "      }\n",
              "\n",
              "      [theme=dark] .colab-df-generate:hover {\n",
              "        background-color: #434B5C;\n",
              "        box-shadow: 0px 1px 3px 1px rgba(0, 0, 0, 0.15);\n",
              "        filter: drop-shadow(0px 1px 2px rgba(0, 0, 0, 0.3));\n",
              "        fill: #FFFFFF;\n",
              "      }\n",
              "    </style>\n",
              "    <button class=\"colab-df-generate\" onclick=\"generateWithVariable('registros_21_05')\"\n",
              "            title=\"Generate code using this dataframe.\"\n",
              "            style=\"display:none;\">\n",
              "\n",
              "  <svg xmlns=\"http://www.w3.org/2000/svg\" height=\"24px\"viewBox=\"0 0 24 24\"\n",
              "       width=\"24px\">\n",
              "    <path d=\"M7,19H8.4L18.45,9,17,7.55,7,17.6ZM5,21V16.75L18.45,3.32a2,2,0,0,1,2.83,0l1.4,1.43a1.91,1.91,0,0,1,.58,1.4,1.91,1.91,0,0,1-.58,1.4L9.25,21ZM18.45,9,17,7.55Zm-12,3A5.31,5.31,0,0,0,4.9,8.1,5.31,5.31,0,0,0,1,6.5,5.31,5.31,0,0,0,4.9,4.9,5.31,5.31,0,0,0,6.5,1,5.31,5.31,0,0,0,8.1,4.9,5.31,5.31,0,0,0,12,6.5,5.46,5.46,0,0,0,6.5,12Z\"/>\n",
              "  </svg>\n",
              "    </button>\n",
              "    <script>\n",
              "      (() => {\n",
              "      const buttonEl =\n",
              "        document.querySelector('#id_93e1ae1b-960e-4c1b-ad75-eea1746b352e button.colab-df-generate');\n",
              "      buttonEl.style.display =\n",
              "        google.colab.kernel.accessAllowed ? 'block' : 'none';\n",
              "\n",
              "      buttonEl.onclick = () => {\n",
              "        google.colab.notebook.generateWithVariable('registros_21_05');\n",
              "      }\n",
              "      })();\n",
              "    </script>\n",
              "  </div>\n",
              "\n",
              "    </div>\n",
              "  </div>\n"
            ],
            "application/vnd.google.colaboratory.intrinsic+json": {
              "type": "dataframe",
              "variable_name": "registros_21_05",
              "summary": "{\n  \"name\": \"registros_21_05\",\n  \"rows\": 168,\n  \"fields\": [\n    {\n      \"column\": \"Abertura\",\n      \"properties\": {\n        \"dtype\": \"number\",\n        \"std\": 4.675635288978269,\n        \"min\": 155.826,\n        \"max\": 174.906,\n        \"num_unique_values\": 167,\n        \"samples\": [\n          162.541,\n          165.675,\n          156.982\n        ],\n        \"semantic_type\": \"\",\n        \"description\": \"\"\n      }\n    },\n    {\n      \"column\": \"Fechamento\",\n      \"properties\": {\n        \"dtype\": \"number\",\n        \"std\": 4.689555420816579,\n        \"min\": 155.832,\n        \"max\": 174.975,\n        \"num_unique_values\": 167,\n        \"samples\": [\n          162.583,\n          165.696,\n          156.943\n        ],\n        \"semantic_type\": \"\",\n        \"description\": \"\"\n      }\n    },\n    {\n      \"column\": \"Resultado\",\n      \"properties\": {\n        \"dtype\": \"number\",\n        \"std\": 0,\n        \"min\": 0,\n        \"max\": 1,\n        \"num_unique_values\": 2,\n        \"samples\": [\n          0,\n          1\n        ],\n        \"semantic_type\": \"\",\n        \"description\": \"\"\n      }\n    },\n    {\n      \"column\": \"Hora\",\n      \"properties\": {\n        \"dtype\": \"category\",\n        \"num_unique_values\": 1,\n        \"samples\": [\n          \"21:05:00\"\n        ],\n        \"semantic_type\": \"\",\n        \"description\": \"\"\n      }\n    }\n  ]\n}"
            }
          },
          "metadata": {},
          "execution_count": 49
        }
      ]
    },
    {
      "cell_type": "code",
      "source": [
        "contagem = registros_21_05['Resultado'].value_counts()\n",
        "print(contagem)"
      ],
      "metadata": {
        "colab": {
          "base_uri": "https://localhost:8080/"
        },
        "id": "UqIweKyHjSm3",
        "outputId": "7d25a728-5c38-4d8e-c23d-a9a6e03c3cea"
      },
      "execution_count": null,
      "outputs": [
        {
          "output_type": "stream",
          "name": "stdout",
          "text": [
            "Resultado\n",
            "1    129\n",
            "0     39\n",
            "Name: count, dtype: int64\n"
          ]
        }
      ]
    },
    {
      "cell_type": "code",
      "source": [
        "porcentagem = (contagem / contagem.sum()) * 100\n",
        "print(porcentagem)"
      ],
      "metadata": {
        "id": "HUB_1SIUjflO",
        "outputId": "d1ddeadc-b2af-436c-d11a-5bbb71f9679f",
        "colab": {
          "base_uri": "https://localhost:8080/"
        }
      },
      "execution_count": null,
      "outputs": [
        {
          "output_type": "stream",
          "name": "stdout",
          "text": [
            "Resultado\n",
            "1    76.785714\n",
            "0    23.214286\n",
            "Name: count, dtype: float64\n"
          ]
        }
      ]
    },
    {
      "cell_type": "markdown",
      "source": [],
      "metadata": {
        "id": "7iT39-xHjUve"
      }
    }
  ]
}